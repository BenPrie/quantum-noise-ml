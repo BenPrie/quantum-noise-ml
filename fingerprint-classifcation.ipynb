{
 "cells": [
  {
   "cell_type": "code",
   "execution_count": 28,
   "id": "initial_id",
   "metadata": {
    "collapsed": true,
    "ExecuteTime": {
     "end_time": "2024-06-04T01:35:51.758220900Z",
     "start_time": "2024-06-04T01:35:51.750213900Z"
    }
   },
   "outputs": [],
   "source": [
    "# Imports, as always...\n",
    "from os import listdir, makedirs, path\n",
    "from tqdm.notebook import tqdm\n",
    "import numpy as np\n",
    "import pickle\n",
    "import torch\n",
    "\n",
    "from sklearn.model_selection import train_test_split\n",
    "from torch.utils.data import Dataset, DataLoader\n",
    "\n",
    "from torch.nn import Sequential, Linear, ReLU, Softmax\n",
    "from torch.optim import Adam\n",
    "from torch.nn import CrossEntropyLoss\n",
    "from torch.nn.functional import one_hot\n",
    "\n",
    "# Graphical imports.\n",
    "import matplotlib.pyplot as plt\n",
    "import seaborn as sns\n",
    "\n",
    "# Styling.\n",
    "palette = 'deep'\n",
    "sns.set_theme(style='darkgrid', palette=palette)"
   ]
  },
  {
   "cell_type": "code",
   "execution_count": 2,
   "outputs": [],
   "source": [
    "# Random seeds.\n",
    "torch.manual_seed(42)\n",
    "np.random.seed(42)"
   ],
   "metadata": {
    "collapsed": false,
    "ExecuteTime": {
     "end_time": "2024-06-04T01:16:38.692168200Z",
     "start_time": "2024-06-04T01:16:38.661699800Z"
    }
   },
   "id": "ff0562c78ddefbc0"
  },
  {
   "cell_type": "markdown",
   "source": [
    "# Fingerprint Classification\n",
    "\n",
    "This notebook aims to replicate and advance the approaches to classification in [Martina et al. (2021)](https://arxiv.org/pdf/2109.11405), in which an SVM is used to binarily classify whether a given classical measurement was or was not produced by a given quantum circuit.\n",
    "\n",
    "This is a simple task which, when taken together with their *very* small circuit, yields for near perfect accuracy. Here, we will complicate things to push the capability of the models to investigate more thoroughly what may or may not be possible with regard to classifying the membership of a quantum state to a quantum device by its \"noise fingerprint\". \n",
    "\n",
    "The ideas fitting into the work of this notebook are as follows:\n",
    "- *Multi-class classification*. Using the data produced by Martina et al. (2021), can we present a multi-class prediction model that is not given any bias towards any particular model -- given a measurement of a quantum state, which device produced it?\n",
    "- *Larger/deeper circuits*. How does the performance degrade as the number of qubits increases, or as the circuit depth increases?\n",
    "- *Noise severity analysis*. Under which severities/forms of noise is performance best? Ideally, we can produce a visualisation of performance (e.g. accuracy) vs. noise intensity/severity. We might expect poor performance with little/no noise (not enough distinguishing information between membership classes), good performance with moderate noise, then poor performance again with large amounts of noise (too much randomness).\n",
    "\n",
    "For clarity, 'membership to a quantum device' in this context refers to 'being produced by that device'."
   ],
   "metadata": {
    "collapsed": false
   },
   "id": "63461cca007c2f91"
  },
  {
   "cell_type": "markdown",
   "source": [
    "## Martina et al. (2021)'s Dataset\n",
    "\n",
    "Only the raw data is given, and the `createDataset.py` and `extractExecuction.py` scripts are abhorrent messes and crimes against humanity, so I'll do my best to re-create the \"extracting\" and \"creating\" process for a dataset from the data on their [GitHub](https://github.com/trianam/learningQuantumNoiseFingerprint/tree/main)."
   ],
   "metadata": {
    "collapsed": false
   },
   "id": "f89fcfc949817c9c"
  },
  {
   "cell_type": "code",
   "execution_count": 3,
   "outputs": [
    {
     "data": {
      "text/plain": "{'ibmq_athens': 750,\n 'ibmq_casablanca': 500,\n 'ibmq_lima': 250,\n 'ibmq_quito': 250,\n 'ibmq_santiago': 250,\n 'ibmq_5_yorktown': 250}"
     },
     "metadata": {},
     "output_type": "display_data"
    }
   ],
   "source": [
    "# List all files in the \"walker\" directory.\n",
    "file_list = listdir('./martina/data/walker')\n",
    "\n",
    "# List of machines.\n",
    "# Note: IBM Bogota's files cannot be read -- ALL lead to pickle underflow.\n",
    "machines = ['ibmq_athens', 'ibmq_casablanca', 'ibmq_lima', 'ibmq_quito', 'ibmq_santiago', 'ibmq_5_yorktown']\n",
    "\n",
    "# How many files does each machine have.\n",
    "counts = {machine : 0 for machine in machines}\n",
    "for file in file_list:\n",
    "    for machine in machines:\n",
    "        if machine in file:\n",
    "            counts[machine] += 1\n",
    "\n",
    "# Any count above 250 includes custom splits -- we're not too interested in those.\n",
    "display(counts)"
   ],
   "metadata": {
    "collapsed": false,
    "ExecuteTime": {
     "end_time": "2024-06-04T01:16:38.752164900Z",
     "start_time": "2024-06-04T01:16:38.673886900Z"
    }
   },
   "id": "58024dbd026b791e"
  },
  {
   "cell_type": "markdown",
   "source": [
    "### Extracting\n",
    "\n",
    "This is the process of reading the stored data and translating it into probability distributions."
   ],
   "metadata": {
    "collapsed": false
   },
   "id": "b449e362e9739136"
  },
  {
   "cell_type": "code",
   "execution_count": 4,
   "outputs": [],
   "source": [
    "# File paths.\n",
    "base_path = './martina/data/walker'\n",
    "extracted_path = './martina/data/walkerExtracted'\n",
    "    \n",
    "# Generate the output path.\n",
    "makedirs(extracted_path, exist_ok=True)\n",
    "\n",
    "# \"Window sizes\".\n",
    "ks = [1000]"
   ],
   "metadata": {
    "collapsed": false,
    "ExecuteTime": {
     "end_time": "2024-06-04T01:16:38.752164900Z",
     "start_time": "2024-06-04T01:16:38.688649600Z"
    }
   },
   "id": "45a9056131e4159d"
  },
  {
   "cell_type": "code",
   "execution_count": 95,
   "outputs": [],
   "source": [
    "# Helper function to filter the file list into the (non-split) files of only a given machine.\n",
    "def filter_to_machine(file_list, machine):\n",
    "    # List of words that specify different types of data (e.g. split).\n",
    "    no_words = ['split', 'bis']\n",
    "    \n",
    "    return filter(\n",
    "        lambda file : machine in file and not (any([word in file for word in no_words])), file_list\n",
    "    )"
   ],
   "metadata": {
    "collapsed": false,
    "ExecuteTime": {
     "end_time": "2024-06-02T18:29:46.087074500Z",
     "start_time": "2024-06-02T18:29:46.079546400Z"
    }
   },
   "id": "e0305231f0f04845"
  },
  {
   "cell_type": "code",
   "execution_count": 96,
   "outputs": [
    {
     "data": {
      "text/plain": "Extracting:   0%|          | 0/6 [00:00<?, ?it/s]",
      "application/vnd.jupyter.widget-view+json": {
       "version_major": 2,
       "version_minor": 0,
       "model_id": "a9d04512089b4e639b16184393eb76d2"
      }
     },
     "metadata": {},
     "output_type": "display_data"
    },
    {
     "data": {
      "text/plain": "Reading files:   0%|          | 0/250 [00:00<?, ?it/s]",
      "application/vnd.jupyter.widget-view+json": {
       "version_major": 2,
       "version_minor": 0,
       "model_id": "bc5a8fb9b7b048b3b8b2189750f91c08"
      }
     },
     "metadata": {},
     "output_type": "display_data"
    },
    {
     "data": {
      "text/plain": "Calculating probabilities:   0%|          | 0/2000000 [00:00<?, ?it/s]",
      "application/vnd.jupyter.widget-view+json": {
       "version_major": 2,
       "version_minor": 0,
       "model_id": "42da6175f0f044449dcf9588b4863743"
      }
     },
     "metadata": {},
     "output_type": "display_data"
    },
    {
     "data": {
      "text/plain": "Reading files:   0%|          | 0/250 [00:00<?, ?it/s]",
      "application/vnd.jupyter.widget-view+json": {
       "version_major": 2,
       "version_minor": 0,
       "model_id": "18574ef9cfdc45baa88cf334bddc036d"
      }
     },
     "metadata": {},
     "output_type": "display_data"
    },
    {
     "data": {
      "text/plain": "Calculating probabilities:   0%|          | 0/2000000 [00:00<?, ?it/s]",
      "application/vnd.jupyter.widget-view+json": {
       "version_major": 2,
       "version_minor": 0,
       "model_id": "98f40dc72e1e457a879d0417cd3e88fd"
      }
     },
     "metadata": {},
     "output_type": "display_data"
    },
    {
     "data": {
      "text/plain": "Reading files:   0%|          | 0/250 [00:00<?, ?it/s]",
      "application/vnd.jupyter.widget-view+json": {
       "version_major": 2,
       "version_minor": 0,
       "model_id": "d055109e655848aea56ba643825a0bae"
      }
     },
     "metadata": {},
     "output_type": "display_data"
    },
    {
     "data": {
      "text/plain": "Calculating probabilities:   0%|          | 0/2000000 [00:00<?, ?it/s]",
      "application/vnd.jupyter.widget-view+json": {
       "version_major": 2,
       "version_minor": 0,
       "model_id": "34d0dc6d28854edbb39f9cacfed37116"
      }
     },
     "metadata": {},
     "output_type": "display_data"
    },
    {
     "data": {
      "text/plain": "Reading files:   0%|          | 0/250 [00:00<?, ?it/s]",
      "application/vnd.jupyter.widget-view+json": {
       "version_major": 2,
       "version_minor": 0,
       "model_id": "cbd6d796cfca424980c3920b3708b782"
      }
     },
     "metadata": {},
     "output_type": "display_data"
    },
    {
     "data": {
      "text/plain": "Calculating probabilities:   0%|          | 0/2000000 [00:00<?, ?it/s]",
      "application/vnd.jupyter.widget-view+json": {
       "version_major": 2,
       "version_minor": 0,
       "model_id": "4c288882ca60470496051ddb191bfa03"
      }
     },
     "metadata": {},
     "output_type": "display_data"
    },
    {
     "data": {
      "text/plain": "Reading files:   0%|          | 0/250 [00:00<?, ?it/s]",
      "application/vnd.jupyter.widget-view+json": {
       "version_major": 2,
       "version_minor": 0,
       "model_id": "f08495b0c7a24598ae46d4693536191c"
      }
     },
     "metadata": {},
     "output_type": "display_data"
    },
    {
     "data": {
      "text/plain": "Calculating probabilities:   0%|          | 0/2000000 [00:00<?, ?it/s]",
      "application/vnd.jupyter.widget-view+json": {
       "version_major": 2,
       "version_minor": 0,
       "model_id": "e949bff64ee94bf1a58f40e3f3d35db9"
      }
     },
     "metadata": {},
     "output_type": "display_data"
    },
    {
     "data": {
      "text/plain": "Reading files:   0%|          | 0/250 [00:00<?, ?it/s]",
      "application/vnd.jupyter.widget-view+json": {
       "version_major": 2,
       "version_minor": 0,
       "model_id": "3911af4d60cb46858cb08c36ad8399a9"
      }
     },
     "metadata": {},
     "output_type": "display_data"
    },
    {
     "data": {
      "text/plain": "Calculating probabilities:   0%|          | 0/2000000 [00:00<?, ?it/s]",
      "application/vnd.jupyter.widget-view+json": {
       "version_major": 2,
       "version_minor": 0,
       "model_id": "b3795242162f46b5b9948b4a42cb0035"
      }
     },
     "metadata": {},
     "output_type": "display_data"
    }
   ],
   "source": [
    "# Extracting executions for each machine.\n",
    "for machine in tqdm(machines, desc='Extracting'):\n",
    "    executions = []\n",
    "    \n",
    "    # For each file belonging to the current machine.\n",
    "    for file in tqdm(filter_to_machine(file_list, machine), desc='Reading files', total=250):\n",
    "        # Read the contents of the file.\n",
    "        contents = pickle.load(open(path.join(base_path, file), 'rb'))\n",
    "        \n",
    "        # For each run of the circuit (of which there are 8000 in the Martina paper and data).\n",
    "        for n in range(len(contents['results'][0]['data']['memory'])):\n",
    "            current_execution = []\n",
    "            \n",
    "            # Note: we will not be doing repeated measures, nor will we \"read all bits\".\n",
    "            \n",
    "            # For each measurement step t (of which there are 9 in the Martina paper and data).\n",
    "            for t in range(len(contents['results'])):\n",
    "                execution = int(contents['results'][t]['data']['memory'][n], 0)\n",
    "                current_execution.append(execution)\n",
    "\n",
    "            executions.append(current_execution)\n",
    "            \n",
    "    # Cast to numpy array.\n",
    "    executions = np.array(executions)\n",
    "    \n",
    "    # Save the full executions of this machine. \n",
    "    np.savetxt(path.join(extracted_path, f'{machine}-executions.csv'), executions)\n",
    "    \n",
    "    # Break the executions into windows to be saved.\n",
    "    for k in ks:\n",
    "        # The window size must cleanly divide the number of executions.\n",
    "        if executions.shape[0] % k != 0: raise(Exception('Indivisible by window size.'))\n",
    "        \n",
    "        # Initialise probabilities array.\n",
    "        probs = np.zeros(shape=(\n",
    "            executions.shape[0] // k, executions.shape[1], np.unique(executions).shape[0]\n",
    "        ), dtype=np.float32)\n",
    "        \n",
    "        # Calculate probabilities with the given window size.\n",
    "        for n in tqdm(range(executions.shape[0]), desc='Calculating probabilities'):\n",
    "            i = n // k\n",
    "            \n",
    "            for t in range(executions.shape[1]):\n",
    "                probs[i, t, executions[n, t]] += 1\n",
    "                \n",
    "        probs = probs / k\n",
    "        \n",
    "        # Save the window.\n",
    "        np.save(path.join(extracted_path, f'{machine}-probabilities-{k}.npy'), probs)"
   ],
   "metadata": {
    "collapsed": false,
    "ExecuteTime": {
     "end_time": "2024-06-02T18:38:04.965593100Z",
     "start_time": "2024-06-02T18:29:53.643945100Z"
    }
   },
   "id": "e85f4453bd09e9cc"
  },
  {
   "cell_type": "markdown",
   "source": [
    "### Creating\n",
    "\n",
    "Now we arrange the extracted run statistics into a dataset. For the sake of ease of use, we'll chuck all that into a PyTorch Dataset and then Dataloader."
   ],
   "metadata": {
    "collapsed": false
   },
   "id": "e462c834653e4756"
  },
  {
   "cell_type": "code",
   "execution_count": 5,
   "outputs": [],
   "source": [
    "# File paths.\n",
    "dataset_path = './martina/data/walkerDataset'\n",
    "makedirs(dataset_path, exist_ok=True)\n",
    "\n",
    "# Specify the window size.\n",
    "k = ks[0]"
   ],
   "metadata": {
    "collapsed": false,
    "ExecuteTime": {
     "end_time": "2024-06-04T01:16:42.964350500Z",
     "start_time": "2024-06-04T01:16:42.942505100Z"
    }
   },
   "id": "995cf416e51dec3e"
  },
  {
   "cell_type": "code",
   "execution_count": 84,
   "outputs": [],
   "source": [
    "# Pack all the probability distributions (from all machines) into an array.\n",
    "probs = [np.load(path.join(extracted_path, f'{machine}-probabilities-{k}.npy')) for machine in machines]\n",
    "order = [np.arange(prob.shape[0]) for prob in probs]\n",
    "\n",
    "# Features (x), labels (y) format.\n",
    "xs, ys = [], []\n",
    "for i in range(min(map(len, order))):\n",
    "    for p in range(len(probs)):\n",
    "        xs.append(probs[p][order[p][i]])\n",
    "        ys.append(p)\n",
    "        \n",
    "# Numpify those arrays.\n",
    "xs = np.array(xs, dtype=np.float32)\n",
    "ys = np.array(ys, dtype=np.float32)\n",
    "\n",
    "# Save in this format.\n",
    "np.savez_compressed(path.join(dataset_path, f'all-dataset-{k}'))"
   ],
   "metadata": {
    "collapsed": false,
    "ExecuteTime": {
     "end_time": "2024-06-04T01:55:55.141697200Z",
     "start_time": "2024-06-04T01:55:55.124723300Z"
    }
   },
   "id": "269dba5e19a8fd6e"
  },
  {
   "cell_type": "code",
   "execution_count": 85,
   "outputs": [],
   "source": [
    "# PyTorch Dataset class for handling these data.\n",
    "class SingleMeasurementDistribution(Dataset):\n",
    "    def __init__(self, xs : np.array, ys : np.array, step : int = 0):\n",
    "        self.xs = xs\n",
    "        self.ys = ys\n",
    "        self.step = step\n",
    "        \n",
    "    def __len__(self):\n",
    "        return ys.shape[0]\n",
    "    \n",
    "    def __getitem__(self, idx):\n",
    "        return xs[idx][self.step], ys[idx]\n",
    "    \n",
    "# Train-test-validation splitting the data.\n",
    "test_size, val_size = 0.25, 0.25\n",
    "xs_train, xs_test, ys_train, ys_test = train_test_split(xs, ys, test_size=test_size, shuffle=False)\n",
    "xs_train, xs_val, ys_train, ys_val = train_test_split(xs_train, ys_train, test_size=val_size, shuffle=False)\n",
    "\n",
    "# Create train-test-val Dataset objects.\n",
    "step = 0\n",
    "train_dataset = SingleMeasurementDistribution(xs_train, ys_train, step)\n",
    "val_dataset = SingleMeasurementDistribution(xs_val, ys_val, step)\n",
    "test_dataset = SingleMeasurementDistribution(xs_test, ys_test, step)\n",
    "\n",
    "# And create train-test-val Dataloader objects.\n",
    "batch_size = 64\n",
    "train_dataloader = DataLoader(train_dataset, batch_size=batch_size, shuffle=True)\n",
    "val_dataloader = DataLoader(val_dataset, batch_size=batch_size, shuffle=True)\n",
    "test_dataloader = DataLoader(test_dataset, batch_size=batch_size, shuffle=True)"
   ],
   "metadata": {
    "collapsed": false,
    "ExecuteTime": {
     "end_time": "2024-06-04T01:55:56.778233500Z",
     "start_time": "2024-06-04T01:55:56.766005600Z"
    }
   },
   "id": "184435ac64616bff"
  },
  {
   "cell_type": "code",
   "execution_count": 8,
   "outputs": [
    {
     "data": {
      "text/plain": "(array([0.464, 0.53 , 0.002, 0.004], dtype=float32), 0.0)"
     },
     "execution_count": 8,
     "metadata": {},
     "output_type": "execute_result"
    }
   ],
   "source": [
    "# e.g.\n",
    "train_dataset[0]"
   ],
   "metadata": {
    "collapsed": false,
    "ExecuteTime": {
     "end_time": "2024-06-04T01:16:48.517936Z",
     "start_time": "2024-06-04T01:16:48.505419200Z"
    }
   },
   "id": "4328aa1d910d0945"
  },
  {
   "cell_type": "markdown",
   "source": [
    "## Multi-class Classification\n",
    "\n",
    "Given the measurement of a quantum state, what is the probability distribution over the set of devices (for the likelihood of membership), and subsequently which device is most likely to have produced the state?\n",
    "\n",
    "The paper has two considerations for the input: (1) considering measurement outcomes at a single measurement step $k\\in[1,\\dots,9]$; and (2) concatenating all measurement outcomes in an ordered series $1,\\dots,k$. Since the circuit is supposedly regenerated and then measured independently for each measurement step $k$, the only tangible difference between them is *time*. This is the point, actually -- the elements of the ordered series are independent of one another, yet ordered in time. "
   ],
   "metadata": {
    "collapsed": false
   },
   "id": "c669d22f09703309"
  },
  {
   "cell_type": "markdown",
   "source": [
    "### Ideas for Single-measurement\n",
    "\n",
    "We'll define a model then train it to classify a given probability distribution as belonging to one of the machines. We'll train on each of the $k$ to obtain $k$ models that have learnt to discriminate distributions by machine membership at each time step. Then we can use each of these models to test on each time step too, giving that we will yield $k$ accuracy scores per model -- how well does each model discriminate at a given time step, considering the time step it was trained in. \n",
    "\n",
    "If we find that models are only really capable of classifying in or very near the time step they were trained in, then we are discovering that time-ordered series of noise are necessary to distinguish machines. This was the broad conclusion of the paper, but their method was not as direct as this (for whatever reason). On the other hand, having a model trained at the $k$-th step being able to classify quite well at the ($k+k')$-th for some $k'\\gg0$ tells us that there is enough information in a slice of time to understand the inherent difference between the noise being produced by machines -- time-dependent or otherwise.\n",
    "\n",
    "Another thing that might be interesting is to train a model with *all* data with no regard to time. This may be considered a brute-force version of the aforementioned test for time-dependence, but I think this might lead to a model capable of doing well at time steps it has never seen. For the sake of this last point, we might like to only train on the first few time steps (say 5) and evaluate on the final time step (i.e. 9) to allow for some distance between train and test sets.\n",
    "\n",
    "Finally, we may also find interesting resutls training a model to discriminate *the time step* rather than the machine. That is, given a probability distribution from a single machine, can we classify the time step in which it was generated. We might then find use for this classify as a \"selector\" of sorts for choosing better architectural choice later on (e.g. if we have $k$ different classifiers for each time step as suggested above, then this model could be used to decide which to use given an unknown state)."
   ],
   "metadata": {
    "collapsed": false
   },
   "id": "4cd9b090f3ae45e"
  },
  {
   "cell_type": "markdown",
   "source": [
    "### A loss function for classifying noise fingerprints\n",
    "\n",
    "The go-to loss for this kind of problem would be (categorical) cross-entropy loss;\n",
    "$$\n",
    "\\ell_\\text{CCE}:=-\\sum_{i=1}^Cy_i\\log\\hat{y}_i\\ ,\n",
    "$$\n",
    "where $C$ is the number of classes, and $y_i$ and $\\hat y_i$ are the true and predicted label for the $i$-th class respectively (i.e. 0 for non-membership, 1 for membership). For us, we have a one-hot encoded vector, hence this will simplify to $-\\log\\hat y_j$, where $j$ is the true class."
   ],
   "metadata": {
    "collapsed": false
   },
   "id": "135c5ae1e97f0c56"
  },
  {
   "cell_type": "markdown",
   "source": [
    "### Training and testing within a single time step\n",
    "\n",
    "Here we train a model to classify a given probability distribution, taken from the $k$-th measurement step, as belonging to one of the given machines. To test performance, we evaluate classification accuracy on  probability distributions taken from the same measurement step only -- model's trained on the $k$-th measurement step are *only* tested on samples from this step."
   ],
   "metadata": {
    "collapsed": false
   },
   "id": "f55c686d4f8088da"
  },
  {
   "cell_type": "code",
   "execution_count": 86,
   "outputs": [],
   "source": [
    "# Function to perform a single training step (i.e. one epoch).\n",
    "def training_step(model, loader, optimiser, loss_fn, verbose=True):\n",
    "    # Use train mode.\n",
    "    model.train()\n",
    "    \n",
    "    # Track the running loss and accuracy.\n",
    "    running_loss = 0\n",
    "    running_acc = 0\n",
    "    \n",
    "    # Iterate over the loader (if verbose is true, give a progress bar).\n",
    "    for xs, ys_true in (tqdm(loader, desc='Training', leave=False) if False else loader):\n",
    "        # Zero gradients.\n",
    "        optimiser.zero_grad()\n",
    "        \n",
    "        # Predict labels.\n",
    "        ys_pred = model(xs)\n",
    "        \n",
    "        # Compute loss (adding to the running loss) and calculate gradients.\n",
    "        loss = loss_fn(ys_pred, one_hot(ys_true.to(int), num_classes=ys_pred.shape[-1]).to(float))\n",
    "        running_loss += loss.item()\n",
    "        loss.backward()\n",
    "        \n",
    "        # Hardmax to get predicted class and compute accuracy.\n",
    "        ys_pred_hardmax = torch.argmax(ys_pred, dim=1)\n",
    "        running_acc += torch.sum(ys_pred_hardmax == ys_true).item()\n",
    "        \n",
    "        # Adjust weights.\n",
    "        optimiser.step()\n",
    "        \n",
    "    # Return the average loss and accuracy over the epoch.\n",
    "    return running_loss / len(loader), running_acc / len(loader.dataset)\n",
    "\n",
    "# Function to evaluate with the given loader (i.e. validation/testing).\n",
    "def evaluate(model, loader, loss_fn, verbose=True):\n",
    "    # Use evaluation mode.\n",
    "    model.eval()\n",
    "    \n",
    "    # Track the running loss and accuracy.\n",
    "    running_loss = 0\n",
    "    running_acc = 0\n",
    "    \n",
    "    # For evaluation, we do not track gradients.\n",
    "    with torch.no_grad():\n",
    "        # Iterate over the loader (if verbose is true, give a progress bar).\n",
    "        for xs, ys_true in (tqdm(loader, desc='Evaluating', leave=False) if False else loader):\n",
    "            # Predict labels.\n",
    "            ys_pred = model(xs)\n",
    "            \n",
    "            # Compute loss (adding to the running loss).\n",
    "            running_loss += loss_fn(ys_pred, one_hot(ys_true.to(int), num_classes=ys_pred.shape[-1]).to(float)).item()\n",
    "            \n",
    "            # Hardmax to get predicted class and compute accuracy.\n",
    "            ys_pred_hardmax = torch.argmax(ys_pred, dim=1)\n",
    "            running_acc += torch.sum(ys_pred_hardmax == ys_true).item()\n",
    "            \n",
    "    # Return the average loss and accuracy over the loader.\n",
    "    return running_loss / len(loader), running_acc / len(loader.dataset)\n",
    "\n",
    "# Function to perform a full training routine.\n",
    "def train(model, train_loader, val_loader, n_epochs, lr=1e-3, weight_decay=.0, verbose=False):\n",
    "    # Set up an optimiser and loss function.\n",
    "    optimiser = Adam(params=model.parameters(), lr=lr, weight_decay=weight_decay)\n",
    "    loss_fn = CrossEntropyLoss()\n",
    "    \n",
    "    # Track the best validation loss so that we may return to the best weights on termination.\n",
    "    best_val_loss = np.inf\n",
    "    best_epoch_idx = 0\n",
    "    \n",
    "    # Remember the training statistics, just in case someone feels like plotting it.\n",
    "    train_losses, train_accs, val_losses, val_accs = [], [], [], []\n",
    "    \n",
    "    for epoch_idx in (tqdm(np.arange(1, n_epochs + 1), desc='Top-level training') if verbose else np.arange(1, n_epochs + 1)):\n",
    "        # Train the model.\n",
    "        train_loss, train_acc = training_step(model, train_loader, optimiser, loss_fn, verbose)\n",
    "        val_loss, val_acc = evaluate(model, val_loader, loss_fn, verbose)\n",
    "        \n",
    "        # Store those stats.\n",
    "        train_losses.append(train_loss)\n",
    "        train_accs.append(train_acc)\n",
    "        val_losses.append(val_loss)\n",
    "        val_accs.append(val_acc)\n",
    "        \n",
    "        # Update the best validation loss and epoch.\n",
    "        if val_loss < best_val_loss:\n",
    "            best_val_loss = val_loss\n",
    "            best_epoch_idx = epoch_idx\n",
    "        \n",
    "        # Print the stats (if verbose).\n",
    "        if verbose:\n",
    "            print(f'Epoch {epoch_idx:03d}: train loss - {train_loss:.3f}, val loss - {val_loss:.3f}, train acc - {train_acc:.3f}, val acc - {val_acc:.3f}')\n",
    "            \n",
    "    # Return the stats.\n",
    "    return train_losses, train_accs, val_losses, val_accs"
   ],
   "metadata": {
    "collapsed": false,
    "ExecuteTime": {
     "end_time": "2024-06-04T01:56:00.888073300Z",
     "start_time": "2024-06-04T01:56:00.879750200Z"
    }
   },
   "id": "dcae3b92b608bee1"
  },
  {
   "cell_type": "code",
   "execution_count": 106,
   "outputs": [
    {
     "data": {
      "text/plain": "Top-level training:   0%|          | 0/100 [00:00<?, ?it/s]",
      "application/vnd.jupyter.widget-view+json": {
       "version_major": 2,
       "version_minor": 0,
       "model_id": "60c556eb3cfd49118165d9f66440c35a"
      }
     },
     "metadata": {},
     "output_type": "display_data"
    },
    {
     "name": "stderr",
     "output_type": "stream",
     "text": [
      "C:\\Users\\bwpri\\anaconda3\\envs\\quantum-noise-ml\\Lib\\site-packages\\torch\\nn\\modules\\module.py:1532: UserWarning: Implicit dimension choice for softmax has been deprecated. Change the call to include dim=X as an argument.\n",
      "  return self._call_impl(*args, **kwargs)\n"
     ]
    },
    {
     "name": "stdout",
     "output_type": "stream",
     "text": [
      "Epoch 001: train loss - 1.685, val loss - 1.626, train acc - 0.328, val acc - 0.392\n",
      "Epoch 002: train loss - 1.604, val loss - 1.592, train acc - 0.422, val acc - 0.431\n",
      "Epoch 003: train loss - 1.583, val loss - 1.578, train acc - 0.433, val acc - 0.451\n",
      "Epoch 004: train loss - 1.572, val loss - 1.566, train acc - 0.446, val acc - 0.453\n",
      "Epoch 005: train loss - 1.566, val loss - 1.563, train acc - 0.456, val acc - 0.448\n",
      "Epoch 006: train loss - 1.560, val loss - 1.556, train acc - 0.459, val acc - 0.468\n",
      "Epoch 007: train loss - 1.557, val loss - 1.556, train acc - 0.465, val acc - 0.470\n",
      "Epoch 008: train loss - 1.553, val loss - 1.557, train acc - 0.465, val acc - 0.465\n",
      "Epoch 009: train loss - 1.549, val loss - 1.546, train acc - 0.470, val acc - 0.477\n",
      "Epoch 010: train loss - 1.544, val loss - 1.545, train acc - 0.476, val acc - 0.470\n",
      "Epoch 011: train loss - 1.542, val loss - 1.538, train acc - 0.478, val acc - 0.481\n",
      "Epoch 012: train loss - 1.539, val loss - 1.540, train acc - 0.484, val acc - 0.484\n",
      "Epoch 013: train loss - 1.537, val loss - 1.536, train acc - 0.484, val acc - 0.484\n",
      "Epoch 014: train loss - 1.533, val loss - 1.532, train acc - 0.491, val acc - 0.493\n",
      "Epoch 015: train loss - 1.531, val loss - 1.527, train acc - 0.491, val acc - 0.495\n",
      "Epoch 016: train loss - 1.530, val loss - 1.525, train acc - 0.491, val acc - 0.499\n",
      "Epoch 017: train loss - 1.529, val loss - 1.526, train acc - 0.494, val acc - 0.500\n",
      "Epoch 018: train loss - 1.526, val loss - 1.523, train acc - 0.498, val acc - 0.499\n",
      "Epoch 019: train loss - 1.524, val loss - 1.522, train acc - 0.503, val acc - 0.501\n",
      "Epoch 020: train loss - 1.521, val loss - 1.517, train acc - 0.507, val acc - 0.508\n",
      "Epoch 021: train loss - 1.520, val loss - 1.519, train acc - 0.503, val acc - 0.508\n",
      "Epoch 022: train loss - 1.516, val loss - 1.514, train acc - 0.514, val acc - 0.511\n",
      "Epoch 023: train loss - 1.513, val loss - 1.508, train acc - 0.513, val acc - 0.519\n",
      "Epoch 024: train loss - 1.509, val loss - 1.511, train acc - 0.521, val acc - 0.523\n",
      "Epoch 025: train loss - 1.503, val loss - 1.499, train acc - 0.530, val acc - 0.534\n",
      "Epoch 026: train loss - 1.497, val loss - 1.489, train acc - 0.542, val acc - 0.554\n",
      "Epoch 027: train loss - 1.489, val loss - 1.491, train acc - 0.548, val acc - 0.555\n",
      "Epoch 028: train loss - 1.485, val loss - 1.485, train acc - 0.558, val acc - 0.552\n",
      "Epoch 029: train loss - 1.479, val loss - 1.479, train acc - 0.561, val acc - 0.558\n",
      "Epoch 030: train loss - 1.474, val loss - 1.474, train acc - 0.566, val acc - 0.570\n",
      "Epoch 031: train loss - 1.472, val loss - 1.467, train acc - 0.566, val acc - 0.573\n",
      "Epoch 032: train loss - 1.469, val loss - 1.478, train acc - 0.569, val acc - 0.559\n",
      "Epoch 033: train loss - 1.469, val loss - 1.471, train acc - 0.569, val acc - 0.566\n",
      "Epoch 034: train loss - 1.463, val loss - 1.466, train acc - 0.575, val acc - 0.573\n",
      "Epoch 035: train loss - 1.462, val loss - 1.459, train acc - 0.577, val acc - 0.578\n",
      "Epoch 036: train loss - 1.461, val loss - 1.458, train acc - 0.575, val acc - 0.579\n",
      "Epoch 037: train loss - 1.459, val loss - 1.460, train acc - 0.578, val acc - 0.582\n",
      "Epoch 038: train loss - 1.459, val loss - 1.459, train acc - 0.576, val acc - 0.582\n",
      "Epoch 039: train loss - 1.457, val loss - 1.452, train acc - 0.581, val acc - 0.584\n",
      "Epoch 040: train loss - 1.456, val loss - 1.451, train acc - 0.580, val acc - 0.586\n",
      "Epoch 041: train loss - 1.454, val loss - 1.458, train acc - 0.581, val acc - 0.578\n",
      "Epoch 042: train loss - 1.454, val loss - 1.450, train acc - 0.582, val acc - 0.585\n",
      "Epoch 043: train loss - 1.452, val loss - 1.453, train acc - 0.588, val acc - 0.583\n",
      "Epoch 044: train loss - 1.455, val loss - 1.453, train acc - 0.582, val acc - 0.581\n",
      "Epoch 045: train loss - 1.453, val loss - 1.451, train acc - 0.583, val acc - 0.585\n",
      "Epoch 046: train loss - 1.452, val loss - 1.449, train acc - 0.586, val acc - 0.587\n",
      "Epoch 047: train loss - 1.452, val loss - 1.449, train acc - 0.583, val acc - 0.588\n",
      "Epoch 048: train loss - 1.451, val loss - 1.446, train acc - 0.586, val acc - 0.589\n",
      "Epoch 049: train loss - 1.449, val loss - 1.451, train acc - 0.587, val acc - 0.586\n",
      "Epoch 050: train loss - 1.449, val loss - 1.445, train acc - 0.587, val acc - 0.591\n",
      "Epoch 051: train loss - 1.448, val loss - 1.447, train acc - 0.583, val acc - 0.589\n",
      "Epoch 052: train loss - 1.448, val loss - 1.449, train acc - 0.588, val acc - 0.590\n",
      "Epoch 053: train loss - 1.452, val loss - 1.456, train acc - 0.583, val acc - 0.578\n",
      "Epoch 054: train loss - 1.452, val loss - 1.453, train acc - 0.583, val acc - 0.584\n",
      "Epoch 055: train loss - 1.448, val loss - 1.445, train acc - 0.587, val acc - 0.588\n",
      "Epoch 056: train loss - 1.449, val loss - 1.445, train acc - 0.586, val acc - 0.592\n",
      "Epoch 057: train loss - 1.446, val loss - 1.443, train acc - 0.588, val acc - 0.591\n",
      "Epoch 058: train loss - 1.446, val loss - 1.445, train acc - 0.591, val acc - 0.591\n",
      "Epoch 059: train loss - 1.449, val loss - 1.447, train acc - 0.586, val acc - 0.589\n",
      "Epoch 060: train loss - 1.445, val loss - 1.457, train acc - 0.590, val acc - 0.578\n",
      "Epoch 061: train loss - 1.448, val loss - 1.444, train acc - 0.584, val acc - 0.590\n",
      "Epoch 062: train loss - 1.447, val loss - 1.447, train acc - 0.586, val acc - 0.588\n",
      "Epoch 063: train loss - 1.445, val loss - 1.451, train acc - 0.589, val acc - 0.585\n",
      "Epoch 064: train loss - 1.446, val loss - 1.443, train acc - 0.588, val acc - 0.591\n",
      "Epoch 065: train loss - 1.447, val loss - 1.448, train acc - 0.587, val acc - 0.586\n",
      "Epoch 066: train loss - 1.447, val loss - 1.443, train acc - 0.589, val acc - 0.591\n",
      "Epoch 067: train loss - 1.446, val loss - 1.444, train acc - 0.585, val acc - 0.589\n",
      "Epoch 068: train loss - 1.446, val loss - 1.443, train acc - 0.589, val acc - 0.592\n",
      "Epoch 069: train loss - 1.447, val loss - 1.449, train acc - 0.586, val acc - 0.586\n",
      "Epoch 070: train loss - 1.445, val loss - 1.442, train acc - 0.589, val acc - 0.592\n",
      "Epoch 071: train loss - 1.445, val loss - 1.443, train acc - 0.587, val acc - 0.592\n",
      "Epoch 072: train loss - 1.444, val loss - 1.457, train acc - 0.589, val acc - 0.578\n",
      "Epoch 073: train loss - 1.445, val loss - 1.442, train acc - 0.590, val acc - 0.591\n",
      "Epoch 074: train loss - 1.446, val loss - 1.441, train acc - 0.589, val acc - 0.594\n",
      "Epoch 075: train loss - 1.446, val loss - 1.443, train acc - 0.588, val acc - 0.589\n",
      "Epoch 076: train loss - 1.445, val loss - 1.452, train acc - 0.590, val acc - 0.582\n",
      "Epoch 077: train loss - 1.446, val loss - 1.440, train acc - 0.585, val acc - 0.594\n",
      "Epoch 078: train loss - 1.446, val loss - 1.444, train acc - 0.587, val acc - 0.592\n",
      "Epoch 079: train loss - 1.444, val loss - 1.440, train acc - 0.591, val acc - 0.593\n",
      "Epoch 080: train loss - 1.446, val loss - 1.443, train acc - 0.585, val acc - 0.590\n",
      "Epoch 081: train loss - 1.446, val loss - 1.445, train acc - 0.588, val acc - 0.591\n",
      "Epoch 082: train loss - 1.448, val loss - 1.452, train acc - 0.584, val acc - 0.582\n",
      "Epoch 083: train loss - 1.445, val loss - 1.452, train acc - 0.588, val acc - 0.582\n",
      "Epoch 084: train loss - 1.443, val loss - 1.447, train acc - 0.591, val acc - 0.588\n",
      "Epoch 085: train loss - 1.446, val loss - 1.454, train acc - 0.587, val acc - 0.580\n",
      "Epoch 086: train loss - 1.445, val loss - 1.442, train acc - 0.587, val acc - 0.592\n",
      "Epoch 087: train loss - 1.446, val loss - 1.442, train acc - 0.587, val acc - 0.592\n",
      "Epoch 088: train loss - 1.445, val loss - 1.445, train acc - 0.587, val acc - 0.589\n",
      "Epoch 089: train loss - 1.445, val loss - 1.447, train acc - 0.589, val acc - 0.588\n",
      "Epoch 090: train loss - 1.446, val loss - 1.440, train acc - 0.588, val acc - 0.594\n",
      "Epoch 091: train loss - 1.444, val loss - 1.440, train acc - 0.589, val acc - 0.593\n",
      "Epoch 092: train loss - 1.443, val loss - 1.439, train acc - 0.592, val acc - 0.594\n",
      "Epoch 093: train loss - 1.444, val loss - 1.442, train acc - 0.589, val acc - 0.590\n",
      "Epoch 094: train loss - 1.445, val loss - 1.441, train acc - 0.588, val acc - 0.593\n",
      "Epoch 095: train loss - 1.443, val loss - 1.439, train acc - 0.588, val acc - 0.596\n",
      "Epoch 096: train loss - 1.443, val loss - 1.442, train acc - 0.590, val acc - 0.591\n",
      "Epoch 097: train loss - 1.442, val loss - 1.441, train acc - 0.592, val acc - 0.590\n",
      "Epoch 098: train loss - 1.446, val loss - 1.444, train acc - 0.587, val acc - 0.589\n",
      "Epoch 099: train loss - 1.445, val loss - 1.443, train acc - 0.588, val acc - 0.591\n",
      "Epoch 100: train loss - 1.445, val loss - 1.440, train acc - 0.589, val acc - 0.594\n"
     ]
    }
   ],
   "source": [
    "# Generate and train a model.\n",
    "hidden_size = 128\n",
    "mlp_model = Sequential(\n",
    "    Linear(xs.shape[-1], hidden_size), ReLU(),\n",
    "    Linear(hidden_size, hidden_size), ReLU(),\n",
    "    Linear(hidden_size, len(machines)),\n",
    "    Softmax()\n",
    ")\n",
    "train_losses, train_accs, val_losses, val_accs = train(mlp_model, train_dataloader, val_dataloader, n_epochs=100, lr=1e-3, verbose=True)"
   ],
   "metadata": {
    "collapsed": false,
    "ExecuteTime": {
     "end_time": "2024-06-04T01:59:56.998505300Z",
     "start_time": "2024-06-04T01:59:02.293206200Z"
    }
   },
   "id": "81a84d8dad49b745"
  },
  {
   "cell_type": "code",
   "execution_count": 107,
   "outputs": [
    {
     "data": {
      "text/plain": "Text(0.5, 0, 'Epoch')"
     },
     "execution_count": 107,
     "metadata": {},
     "output_type": "execute_result"
    },
    {
     "data": {
      "text/plain": "<Figure size 800x300 with 2 Axes>",
      "image/png": "[encoded data removed]"
     },
     "metadata": {},
     "output_type": "display_data"
    }
   ],
   "source": [
    "# Set up a figure and axes.\n",
    "fig, (ax_loss, ax_acc) = plt.subplots(1, 2, figsize=(8, 3))\n",
    "\n",
    "# Plot the stats.\n",
    "epochs = np.arange(len(train_losses))\n",
    "sns.lineplot(x=epochs, y=train_losses, ax=ax_loss)\n",
    "sns.lineplot(x=epochs, y=val_losses, ax=ax_loss)\n",
    "sns.lineplot(x=epochs, y=train_accs, ax=ax_acc, label='Train')\n",
    "sns.lineplot(x=epochs, y=val_accs, ax=ax_acc, label='Val')\n",
    "\n",
    "# Beautification.\n",
    "ax_loss.set_title('(CCE) Loss')\n",
    "ax_loss.set_xlabel('Epoch')\n",
    "\n",
    "ax_acc.set_title('Accuracy')\n",
    "ax_acc.set_xlabel('Epoch')"
   ],
   "metadata": {
    "collapsed": false,
    "ExecuteTime": {
     "end_time": "2024-06-04T01:59:57.346819800Z",
     "start_time": "2024-06-04T01:59:57.029505100Z"
    }
   },
   "id": "813e465c54d47f94"
  },
  {
   "cell_type": "code",
   "execution_count": 130,
   "outputs": [
    {
     "name": "stderr",
     "output_type": "stream",
     "text": [
      "C:\\Users\\bwpri\\anaconda3\\envs\\quantum-noise-ml\\Lib\\site-packages\\torch\\nn\\modules\\module.py:1532: UserWarning: Implicit dimension choice for softmax has been deprecated. Change the call to include dim=X as an argument.\n",
      "  return self._call_impl(*args, **kwargs)\n"
     ]
    },
    {
     "data": {
      "text/plain": "([0, 1, 2, 3, 4, 5],\n [Text(0, 0, 'ibmq_athens'),\n  Text(1, 0, 'ibmq_casablanca'),\n  Text(2, 0, 'ibmq_lima'),\n  Text(3, 0, 'ibmq_quito'),\n  Text(4, 0, 'ibmq_santiago'),\n  Text(5, 0, 'ibmq_5_yorktown')])"
     },
     "execution_count": 130,
     "metadata": {},
     "output_type": "execute_result"
    },
    {
     "data": {
      "text/plain": "<Figure size 400x300 with 1 Axes>",
      "image/png": "[encoded data removed]"
     },
     "metadata": {},
     "output_type": "display_data"
    }
   ],
   "source": [
    "# Checking distribution of outputs (e.g. to see whether the model has any bias).\n",
    "outcomes = torch.argmax(mlp_model(torch.tensor(xs[:,0,:])), dim=1)\n",
    "outcome_frequencies = np.unique(outcomes, return_counts=True)\n",
    "\n",
    "# Plotting.\n",
    "fig, ax = plt.subplots(1, 1, figsize=(4, 3))\n",
    "sns.barplot(x=[machines[i] for i in outcome_frequencies[0]], y=outcome_frequencies[1], ax=ax)\n",
    "\n",
    "# True frequency (for all machines is 2000).\n",
    "ax.axhline(2000, color='k', linestyle='--')\n",
    "\n",
    "# Beautifying.\n",
    "ax.set_title('Outcome Distribution (Training Set)')\n",
    "ax.set_ylabel('Frequency')\n",
    "plt.xticks(rotation=90)"
   ],
   "metadata": {
    "collapsed": false,
    "ExecuteTime": {
     "end_time": "2024-06-04T02:09:21.898170100Z",
     "start_time": "2024-06-04T02:09:21.722684900Z"
    }
   },
   "id": "6a9ffa03f0b97ba9"
  }
 ],
 "metadata": {
  "kernelspec": {
   "display_name": "Python 3",
   "language": "python",
   "name": "python3"
  },
  "language_info": {
   "codemirror_mode": {
    "name": "ipython",
    "version": 2
   },
   "file_extension": ".py",
   "mimetype": "text/x-python",
   "name": "python",
   "nbconvert_exporter": "python",
   "pygments_lexer": "ipython2",
   "version": "2.7.6"
  }
 },
 "nbformat": 4,
 "nbformat_minor": 5
}
