{
 "cells": [
  {
   "cell_type": "code",
   "execution_count": 1,
   "id": "initial_id",
   "metadata": {
    "collapsed": true,
    "ExecuteTime": {
     "end_time": "2024-06-07T18:35:00.149967900Z",
     "start_time": "2024-06-07T18:34:52.573356700Z"
    }
   },
   "outputs": [],
   "source": [
    "# Imports, as always...\n",
    "from os import makedirs\n",
    "from tqdm.notebook import tqdm\n",
    "import numpy as np\n",
    "import pandas as pd\n",
    "import torch\n",
    "from datetime import datetime\n",
    "from math import log\n",
    "\n",
    "from torch.utils.data import Dataset, DataLoader\n",
    "\n",
    "from torch.nn import Sequential, Linear, ReLU, Softmax\n",
    "from torch.optim import Adam\n",
    "from torch.nn import CrossEntropyLoss\n",
    "from torch.nn.functional import one_hot\n",
    "\n",
    "from sklearn.svm import SVC\n",
    "\n",
    "# Dimensionality reduction and projection imports.\n",
    "from sklearn.decomposition import PCA\n",
    "from sklearn.manifold import TSNE\n",
    "from umap import UMAP\n",
    "\n",
    "# Script imports.\n",
    "from dataset import load_dataset, load_flipped_dataset\n",
    "\n",
    "# Graphical imports.\n",
    "import matplotlib.pyplot as plt\n",
    "import seaborn as sns\n",
    "\n",
    "# Styling.\n",
    "palette = 'deep'\n",
    "sns.set_theme(style='darkgrid', palette=palette)\n",
    "\n",
    "# Ignore warnings.\n",
    "import warnings\n",
    "warnings.filterwarnings('ignore')"
   ]
  },
  {
   "cell_type": "code",
   "execution_count": 2,
   "outputs": [],
   "source": [
    "# Random seeds.\n",
    "torch.manual_seed(42)\n",
    "np.random.seed(42)"
   ],
   "metadata": {
    "collapsed": false,
    "ExecuteTime": {
     "end_time": "2024-06-07T18:35:00.169620300Z",
     "start_time": "2024-06-07T18:35:00.152972Z"
    }
   },
   "id": "ff0562c78ddefbc0"
  },
  {
   "cell_type": "code",
   "execution_count": 3,
   "outputs": [],
   "source": [
    "dataset_path = 'martina/data/walkerDataset/all-dataset-1000.npz'\n",
    "machines = [\n",
    "    'ibmq_athens', 'ibmq_casablanca', 'ibmq_lima', 'ibmq_quito', 'ibmq_santiago', 'ibmq_5_yorktown'\n",
    "]"
   ],
   "metadata": {
    "collapsed": false,
    "ExecuteTime": {
     "end_time": "2024-06-07T18:35:00.169620300Z",
     "start_time": "2024-06-07T18:35:00.159768700Z"
    }
   },
   "id": "f10b81637f634971"
  },
  {
   "cell_type": "markdown",
   "source": [
    "# Fingerprint Classification\n",
    "\n",
    "This notebook aims to replicate and advance the approaches to classification in [Martina et al. (2021)](https://arxiv.org/pdf/2109.11405), in which an SVM is used to binarily classify whether a given classical measurement was or was not produced by a given quantum circuit.\n",
    "\n",
    "This is a simple task which, when taken together with their *very* small circuit, yields for near perfect accuracy. Here, we will complicate things to push the capability of the models to investigate more thoroughly what may or may not be possible with regard to classifying the membership of a quantum state to a quantum device by its \"noise fingerprint\". \n",
    "\n",
    "The ideas fitting into the work of this notebook are as follows:\n",
    "- *Multi-class classification*. Using the data produced by Martina et al. (2021), can we present a multi-class prediction model that is not given any bias towards any particular model -- given a measurement of a quantum state, which device produced it?\n",
    "- *Larger/deeper circuits*. How does the performance degrade as the number of qubits increases, or as the circuit depth increases?\n",
    "- *Noise severity analysis*. Under which severities/forms of noise is performance best? Ideally, we can produce a visualisation of performance (e.g. accuracy) vs. noise intensity/severity. We might expect poor performance with little/no noise (not enough distinguishing information between membership classes), good performance with moderate noise, then poor performance again with large amounts of noise (too much randomness).\n",
    "\n",
    "For clarity, 'membership to a quantum device' in this context refers to 'being produced by that device'."
   ],
   "metadata": {
    "collapsed": false
   },
   "id": "63461cca007c2f91"
  },
  {
   "cell_type": "markdown",
   "source": [
    "## Visualising Distributions via Projection\n",
    "\n",
    "It might be useful to get a visualisation for the probability distributions produced by the machines to look for any clear clustering or separability."
   ],
   "metadata": {
    "collapsed": false
   },
   "id": "38d3338e38a7ff64"
  },
  {
   "cell_type": "code",
   "execution_count": null,
   "outputs": [],
   "source": [
    "# Load in the all data (numpy).\n",
    "xs, _, _, ys, _, _ = load_dataset(dataset_path, steps=[2], test_size=.0, val_size=.0, as_torch=False)"
   ],
   "metadata": {
    "collapsed": false
   },
   "id": "42b56f526c5aae37"
  },
  {
   "cell_type": "code",
   "execution_count": null,
   "outputs": [],
   "source": [
    "# Instantiate and fit a 2D PCA to the distribution data (for the given measurement step).\n",
    "pca = PCA(n_components=2)\n",
    "xs_pca = pca.fit_transform(xs)"
   ],
   "metadata": {
    "collapsed": false
   },
   "id": "89c05c0457fbf1e7"
  },
  {
   "cell_type": "code",
   "execution_count": null,
   "outputs": [],
   "source": [
    "# Likewise for t-SNE\n",
    "tsne = TSNE(n_components=2)\n",
    "xs_tsne = tsne.fit_transform(xs)"
   ],
   "metadata": {
    "collapsed": false
   },
   "id": "44e54ea550ba1f6f"
  },
  {
   "cell_type": "code",
   "execution_count": null,
   "outputs": [],
   "source": [
    "# And UMAP.\n",
    "umap = UMAP(n_components=2)\n",
    "xs_umap = umap.fit_transform(xs)"
   ],
   "metadata": {
    "collapsed": false
   },
   "id": "ae49106e97ae62f"
  },
  {
   "cell_type": "code",
   "execution_count": null,
   "outputs": [],
   "source": [
    "# Create DataFrames for them (makes hue options easier).\n",
    "pca_data = pd.DataFrame({'x' : xs_pca[:,0], 'y' : xs_pca[:,1], 'Machine' : ys.astype(int)})\n",
    "tsne_data = pd.DataFrame({'x' : xs_tsne[:,0], 'y' : xs_tsne[:,1], 'Machine' : ys.astype(int)})\n",
    "#umap_data = pd.DataFrame({'x' : xs_train_umap[:,0], 'y' : xs_train_umap[:,1], 'Machine' : ys_train.astype(int)})\n",
    "\n",
    "# Replace machine indices with machine labels.\n",
    "pca_data['Machine'].replace({i : machine for i, machine in enumerate(machines)}, inplace=True)\n",
    "tsne_data['Machine'].replace({i : machine for i, machine in enumerate(machines)}, inplace=True)\n",
    "#umap_data['Machine'].replace({i : machine for i, machine in enumerate(machines)}, inplace=True)"
   ],
   "metadata": {
    "collapsed": false
   },
   "id": "e956d22376519494"
  },
  {
   "cell_type": "code",
   "execution_count": null,
   "outputs": [],
   "source": [
    "# Scatter plot the distributions in the reduced space (hue on machine).\n",
    "fig, (ax1, ax2) = plt.subplots(1, 2, figsize=(8, 3))\n",
    "palette = 'Dark2'\n",
    "size = 5\n",
    "alpha = .7\n",
    "plot1 = sns.scatterplot(data=pca_data, x='x', y='y', hue='Machine', ax=ax1, s=size, linewidth=0, alpha=alpha, palette=palette)\n",
    "plot2 = sns.scatterplot(data=tsne_data, x='x', y='y', hue='Machine', ax=ax2, s=size, linewidth=0, alpha=alpha, palette=palette)\n",
    "\n",
    "# Beautification.\n",
    "ax1.set_title('PCA')\n",
    "ax2.set_title('$t$-SNE')\n",
    "#ax1.set_xlabel('')\n",
    "#ax1.set_ylabel('')\n",
    "#plot1.axes.xaxis.set_ticklabels([])\n",
    "#plot1.axes.yaxis.set_ticklabels([])\n",
    "#ax2.set_xlabel('')\n",
    "#ax2.set_ylabel('')\n",
    "#plot2.axes.xaxis.set_ticklabels([])\n",
    "#plot2.axes.yaxis.set_ticklabels([])\n",
    "\n",
    "ax1.set_axis_off()\n",
    "ax2.set_axis_off()\n",
    "\n",
    "ax1.get_legend().remove()\n",
    "legend = ax2.legend(loc='center left', bbox_to_anchor=(1.1, 0.5), markerscale=5)\n",
    "legend._legend_box.align = \"left\"\n",
    "\n",
    "plt.savefig('./figures/martina-data-visualisation.pdf', bbox_inches='tight')"
   ],
   "metadata": {
    "collapsed": false
   },
   "id": "51f04d197cf860e0"
  },
  {
   "cell_type": "markdown",
   "source": [
    "## Multi-class Classification\n",
    "\n",
    "Given the measurement of a quantum state, what is the probability distribution over the set of devices (for the likelihood of membership), and subsequently which device is most likely to have produced the state?\n",
    "\n",
    "The paper has two considerations for the input: (1) considering measurement outcomes at a single measurement step $k\\in[1,\\dots,9]$; and (2) concatenating all measurement outcomes in an ordered series $1,\\dots,k$. Since the circuit is supposedly regenerated and then measured independently for each measurement step $k$, the only tangible difference between them is *time*. This is the point, actually -- the elements of the ordered series are independent of one another, yet ordered in time. "
   ],
   "metadata": {
    "collapsed": false
   },
   "id": "c669d22f09703309"
  },
  {
   "cell_type": "markdown",
   "source": [
    "### Ideas for Single-measurement\n",
    "\n",
    "We'll define a model then train it to classify a given probability distribution as belonging to one of the machines. We'll train on each of the $k$ to obtain $k$ models that have learnt to discriminate distributions by machine membership at each time step. Then we can use each of these models to test on each time step too, giving that we will yield $k$ accuracy scores per model -- how well does each model discriminate at a given time step, considering the time step it was trained in. \n",
    "\n",
    "If we find that models are only really capable of classifying in or very near the time step they were trained in, then we are discovering that time-ordered series of noise are necessary to distinguish machines. This was the broad conclusion of the paper, but their method was not as direct as this (for whatever reason). On the other hand, having a model trained at the $k$-th step being able to classify quite well at the ($k+k')$-th for some $k'\\gg0$ tells us that there is enough information in a slice of time to understand the inherent difference between the noise being produced by machines -- time-dependent or otherwise.\n",
    "\n",
    "Another thing that might be interesting is to train a model with *all* data with no regard to time. This may be considered a brute-force version of the aforementioned test for time-dependence, but I think this might lead to a model capable of doing well at time steps it has never seen. For the sake of this last point, we might like to only train on the first few time steps (say 5) and evaluate on the final time step (i.e. 9) to allow for some distance between train and test sets.\n",
    "\n",
    "Finally, we may also find interesting resutls training a model to discriminate *the time step* rather than the machine. That is, given a probability distribution from a single machine, can we classify the time step in which it was generated. We might then find use for this classify as a \"selector\" of sorts for choosing better architectural choice later on (e.g. if we have $k$ different classifiers for each time step as suggested above, then this model could be used to decide which to use given an unknown state)."
   ],
   "metadata": {
    "collapsed": false
   },
   "id": "4cd9b090f3ae45e"
  },
  {
   "cell_type": "markdown",
   "source": [
    "### Training and testing within a single time step\n",
    "\n",
    "Here we train a model to classify a given probability distribution, taken from the $k$-th measurement step, as belonging to one of the given machines. To test performance, we evaluate classification accuracy on  probability distributions taken from the same measurement step only -- model's trained on the $k$-th measurement step are *only* tested on samples from this step."
   ],
   "metadata": {
    "collapsed": false
   },
   "id": "f55c686d4f8088da"
  },
  {
   "cell_type": "markdown",
   "source": [
    "#### Multi-layer Perceptron (MLP)"
   ],
   "metadata": {
    "collapsed": false
   },
   "id": "4d61500f120b385e"
  },
  {
   "cell_type": "code",
   "execution_count": 4,
   "outputs": [],
   "source": [
    "# Function to perform a single training step (i.e. one epoch).\n",
    "def training_step(model, loader, optimiser, loss_fn, verbose=True):\n",
    "    # Use train mode.\n",
    "    model.train()\n",
    "    \n",
    "    # Track the running loss and accuracy.\n",
    "    running_loss = 0\n",
    "    running_acc = 0\n",
    "    \n",
    "    # Iterate over the loader (if verbose is true, give a progress bar).\n",
    "    for xs, ys_true in (tqdm(loader, desc='Training', leave=False) if False else loader):\n",
    "        # Zero gradients.\n",
    "        optimiser.zero_grad()\n",
    "        \n",
    "        # Predict labels.\n",
    "        ys_pred = model(xs)\n",
    "        \n",
    "        # Compute loss (adding to the running loss) and calculate gradients.\n",
    "        loss = loss_fn(ys_pred, one_hot(ys_true.to(int), num_classes=ys_pred.shape[-1]).to(float))\n",
    "        running_loss += loss.item()\n",
    "        loss.backward()\n",
    "        \n",
    "        # Hardmax to get predicted class and compute accuracy.\n",
    "        ys_pred_hardmax = torch.argmax(ys_pred, dim=1)\n",
    "        running_acc += torch.sum(ys_pred_hardmax == ys_true).item()\n",
    "        \n",
    "        # Adjust weights.\n",
    "        optimiser.step()\n",
    "        \n",
    "    # Return the average loss and accuracy over the epoch.\n",
    "    return running_loss / len(loader), running_acc / len(loader.dataset)\n",
    "\n",
    "# Function to evaluate with the given loader (i.e. validation/testing).\n",
    "def evaluate(model, loader, loss_fn, verbose=True):\n",
    "    # Use evaluation mode.\n",
    "    model.eval()\n",
    "    \n",
    "    # Track the running loss and accuracy.\n",
    "    running_loss = 0\n",
    "    running_acc = 0\n",
    "    \n",
    "    # For evaluation, we do not track gradients.\n",
    "    with torch.no_grad():\n",
    "        # Iterate over the loader (if verbose is true, give a progress bar).\n",
    "        for xs, ys_true in (tqdm(loader, desc='Evaluating', leave=False) if False else loader):\n",
    "            # Predict labels.\n",
    "            ys_pred = model(xs)\n",
    "            \n",
    "            # Compute loss (adding to the running loss).\n",
    "            running_loss += loss_fn(ys_pred, one_hot(ys_true.to(int), num_classes=ys_pred.shape[-1]).to(float)).item()\n",
    "            \n",
    "            # Hardmax to get predicted class and compute accuracy.\n",
    "            ys_pred_hardmax = torch.argmax(ys_pred, dim=1)\n",
    "            running_acc += torch.sum(ys_pred_hardmax == ys_true).item()\n",
    "            \n",
    "    # Return the average loss and accuracy over the loader.\n",
    "    return running_loss / len(loader), running_acc / len(loader.dataset)\n",
    "\n",
    "# Function to perform a full training routine.\n",
    "def train(model, train_loader, val_loader, n_epochs, lr=1e-3, weight_decay=.0, verbose=False, save_path=None):\n",
    "    # Create the save directory.\n",
    "    if save_path: makedirs(save_path, exist_ok=True)\n",
    "    \n",
    "    # Set up an optimiser and loss function.\n",
    "    optimiser = Adam(params=model.parameters(), lr=lr, weight_decay=weight_decay)\n",
    "    loss_fn = CrossEntropyLoss()\n",
    "    \n",
    "    # Track the best validation loss so that we may return to the best weights on termination.\n",
    "    best_val_loss = np.inf\n",
    "    best_state = model.state_dict()\n",
    "    \n",
    "    # Remember the training statistics, just in case someone feels like plotting it.\n",
    "    train_losses, train_accs, val_losses, val_accs = [], [], [], []\n",
    "    \n",
    "    for epoch_idx in tqdm(np.arange(1, n_epochs + 1), desc='Top-level training'):\n",
    "        # Train the model.\n",
    "        train_loss, train_acc = training_step(model, train_loader, optimiser, loss_fn, verbose)\n",
    "        val_loss, val_acc = evaluate(model, val_loader, loss_fn, verbose)\n",
    "        \n",
    "        # Store those stats.\n",
    "        train_losses.append(train_loss)\n",
    "        train_accs.append(train_acc)\n",
    "        val_losses.append(val_loss)\n",
    "        val_accs.append(val_acc)\n",
    "        \n",
    "        # Update the best validation loss and remember the model's state.\n",
    "        if val_loss < best_val_loss:\n",
    "            best_val_loss = val_loss\n",
    "            best_state = model.state_dict()\n",
    "            \n",
    "            # Save the model (if a save path has been given).\n",
    "            if save_path: torch.save(best_state, f'{save_path}/state_dict.pt')\n",
    "        \n",
    "        # Print the stats (if verbose).\n",
    "        if verbose:\n",
    "            print(f'Epoch {epoch_idx:03d}: train loss - {train_loss:.3f}, val loss - {val_loss:.3f}, train acc - {train_acc:.3f}, val acc - {val_acc:.3f}')\n",
    "            \n",
    "    # Restore the best model in validation.\n",
    "    model.load_state_dict(best_state)\n",
    "            \n",
    "    # Return the stats.\n",
    "    return train_losses, train_accs, val_losses, val_accs"
   ],
   "metadata": {
    "collapsed": false,
    "ExecuteTime": {
     "end_time": "2024-06-07T18:35:01.466075500Z",
     "start_time": "2024-06-07T18:35:01.446190600Z"
    }
   },
   "id": "dcae3b92b608bee1"
  },
  {
   "cell_type": "code",
   "execution_count": null,
   "outputs": [],
   "source": [
    "# Load in the data as Dataloaders.\n",
    "train_dataloader, val_dataloader, _ = load_dataset(dataset_path, steps=[2], test_size=.25, val_size=.15,  shuffle=True, as_torch=True, batch_size=64)\n",
    "\n",
    "# Generate and train a model.\n",
    "hidden_size = 128\n",
    "mlp_model = Sequential(\n",
    "    Linear(4, hidden_size), ReLU(),\n",
    "    Linear(hidden_size, hidden_size), ReLU(),\n",
    "    Linear(hidden_size, len(machines)),\n",
    "    Softmax()\n",
    ")\n",
    "train_losses, train_accs, val_losses, val_accs = train(mlp_model, train_dataloader, val_dataloader, n_epochs=40, lr=1e-3, verbose=True)"
   ],
   "metadata": {
    "collapsed": false
   },
   "id": "81a84d8dad49b745"
  },
  {
   "cell_type": "code",
   "execution_count": null,
   "outputs": [],
   "source": [
    "# Set up a figure and axes.\n",
    "fig, (ax_loss, ax_acc) = plt.subplots(1, 2, figsize=(8, 3))\n",
    "\n",
    "# Plot the stats.\n",
    "epochs = np.arange(len(train_losses))\n",
    "sns.lineplot(x=epochs, y=train_losses, ax=ax_loss)\n",
    "sns.lineplot(x=epochs, y=val_losses, ax=ax_loss)\n",
    "sns.lineplot(x=epochs, y=train_accs, ax=ax_acc, label='Train')\n",
    "sns.lineplot(x=epochs, y=val_accs, ax=ax_acc, label='Val')\n",
    "\n",
    "# Beautification.\n",
    "ax_loss.set_title('(CCE) Loss')\n",
    "ax_loss.set_xlabel('Epoch')\n",
    "\n",
    "ax_acc.set_title('Accuracy')\n",
    "ax_acc.set_xlabel('Epoch')\n",
    "\n",
    "plt.show()"
   ],
   "metadata": {
    "collapsed": false
   },
   "id": "813e465c54d47f94"
  },
  {
   "cell_type": "code",
   "execution_count": null,
   "outputs": [],
   "source": [
    "# Load in the train and val sets.\n",
    "xs_train, xs_val, _, ys_train, ys_val, _ = load_dataset(dataset_path, steps=[2], test_size=.25, val_size=.15, as_torch=False)\n",
    "\n",
    "# Checking distribution of outputs (e.g. to see whether the model has any bias).\n",
    "outcomes_train = torch.argmax(mlp_model(torch.tensor(xs_train)), dim=1)\n",
    "outcome_frequencies_train = np.unique(outcomes_train, return_counts=True)\n",
    "outcomes_val = torch.argmax(mlp_model(torch.tensor(xs_val)), dim=1)\n",
    "outcome_frequencies_val = np.unique(outcomes_val, return_counts=True)\n",
    "\n",
    "# Plotting.\n",
    "fig, (ax1, ax2) = plt.subplots(1, 2, figsize=(8, 3))\n",
    "sns.barplot(x=machines, y=outcome_frequencies_train[1], ax=ax1)\n",
    "sns.barplot(x=machines, y=outcome_frequencies_val[1], ax=ax2)\n",
    "\n",
    "# True frequency (for all machines is 2000).\n",
    "ax1.axhline(xs_train.shape[0] / len(machines), color='k', linestyle='--')\n",
    "ax2.axhline(xs_val.shape[0] / len(machines), color='k', linestyle='--')\n",
    "\n",
    "# Beautifying.\n",
    "ax1.set_title('Outcome Distribution (Train Set)')\n",
    "ax2.set_title('Outcome Distribution (Val Set)')\n",
    "ax1.set_ylabel('Frequency')\n",
    "ax1.set_xticklabels(machines, rotation=90)\n",
    "ax2.set_xticklabels(machines, rotation=90)\n",
    "\n",
    "plt.show()"
   ],
   "metadata": {
    "collapsed": false
   },
   "id": "6a9ffa03f0b97ba9"
  },
  {
   "cell_type": "code",
   "execution_count": null,
   "outputs": [],
   "source": [
    "# Train a classifier for each measurement step.\n",
    "models = {}\n",
    "stats = {}\n",
    "for step in range(9):\n",
    "    # Data.\n",
    "    train_dataloader, val_dataloader, _ = load_dataset(dataset_path, steps=[step], test_size=.25, val_size=.15,  shuffle=True, as_torch=True, batch_size=64)\n",
    "    \n",
    "    # Generate and train a model.\n",
    "    hidden_size = 64\n",
    "    mlp_model = Sequential(\n",
    "        Linear(4, hidden_size), ReLU(),\n",
    "        Linear(hidden_size, hidden_size), ReLU(),\n",
    "        Linear(hidden_size, len(machines)),\n",
    "        Softmax()\n",
    "    )\n",
    "    train_losses, train_accs, val_losses, val_accs = train(mlp_model, train_dataloader, val_dataloader, n_epochs=50, lr=1e-3, verbose=False, save_path=f'./models/mlp/{datetime.now().strftime(\"%d-%m-%Y\")}/{datetime.now().strftime(\"%H-%M-%S\")}')\n",
    "    \n",
    "    # Store the model and stats.\n",
    "    models[step] = mlp_model\n",
    "    stats[step] = np.array([train_losses, train_accs, val_losses, val_accs])"
   ],
   "metadata": {
    "collapsed": false
   },
   "id": "7ea1b8da14f2cca5"
  },
  {
   "cell_type": "code",
   "execution_count": null,
   "outputs": [],
   "source": [
    "# Extract the best validation loss and accuracy from each model.\n",
    "best_losses = [min(model_stats[2]) for model_stats in stats.values()]\n",
    "best_accs = [max(model_stats[3]) for model_stats in stats.values()]\n",
    "\n",
    "# Colour palette (https://stackoverflow.com/questions/36271302/changing-color-scale-in-seaborn-bar-plot).\n",
    "def colors_from_values(values, palette_name):\n",
    "    # normalize the values to range [0, 1]\n",
    "    normalized = (values - min(values)) / (max(values) - min(values))\n",
    "    # convert to indices\n",
    "    indices = np.round(normalized * (len(values) - 1)).astype(np.int32)\n",
    "    # use the indices to get the colors\n",
    "    palette = sns.color_palette(palette_name, len(values))\n",
    "    return np.array(palette).take(indices, axis=0)\n",
    "\n",
    "# Bar plot them.\n",
    "fig, (ax1, ax2) = plt.subplots(1, 2, figsize=(8, 3))\n",
    "sns.barplot(x=np.arange(1, 10), y=best_losses, ax=ax1, palette=colors_from_values(best_losses, 'rocket_r'))\n",
    "sns.barplot(x=np.arange(1, 10), y=best_accs, ax=ax2, palette=colors_from_values(best_accs, 'rocket'))\n",
    "\n",
    "# Label the bars.\n",
    "for container in ax1.containers:\n",
    "    ax1.bar_label(container, fmt='%.2f', fontsize=8)\n",
    "for container in ax2.containers:\n",
    "    ax2.bar_label(container, fmt='%.2f', fontsize=8)\n",
    "\n",
    "# Beautification.\n",
    "ax1.set_title('Best Val (CCE) Loss')\n",
    "ax2.set_title('Best Val Accuracy')\n",
    "ax1.set_xlabel('Measurement step')\n",
    "ax2.set_xlabel('Measurement step')\n",
    "ax1.set_ylim(0, 1.6)\n",
    "ax2.set_ylim(0, 1.05)\n",
    "\n",
    "plt.savefig('./figures/mlp/single-measurement-training/performance-by-measurement-step.pdf', bbox_inches='tight')"
   ],
   "metadata": {
    "collapsed": false
   },
   "id": "3244ef63d6bf6d1a"
  },
  {
   "cell_type": "code",
   "execution_count": null,
   "outputs": [],
   "source": [
    "# Set up a figure and axes.\n",
    "fig, (ax_loss, ax_acc) = plt.subplots(1, 2, figsize=(8, 3))\n",
    "\n",
    "# Plot the stats for all models.\n",
    "epochs = np.arange(len(train_losses))\n",
    "palette = sns.color_palette('rocket', len(stats.keys()))\n",
    "for i, model_stats in enumerate(stats.values()):\n",
    "    sns.lineplot(x=epochs, y=model_stats[2], ax=ax_loss, color=palette[i])\n",
    "    sns.lineplot(x=epochs, y=model_stats[3], ax=ax_acc, label=f'$k={i+1}$', color=palette[i])\n",
    "\n",
    "# Beautification.\n",
    "ax_loss.set_title('(CCE) Loss')\n",
    "ax_loss.set_xlabel('Epoch')\n",
    "ax_loss.set_ylim(0, 1.8)\n",
    "\n",
    "ax_acc.set_title('Accuracy')\n",
    "ax_acc.set_xlabel('Epoch')\n",
    "ax_acc.set_ylim(0, 1.05)\n",
    "\n",
    "legend = ax_acc.legend(loc='center left', bbox_to_anchor=(1.05, 0.5), title='Measurement Step')\n",
    "legend._legend_box.align = \"left\"\n",
    "\n",
    "plt.savefig('./figures/mlp/single-measurement-training/training-curves-by-measurement-step.pdf', bbox_inches='tight')"
   ],
   "metadata": {
    "collapsed": false
   },
   "id": "b3c8f9f3dbdf5002"
  },
  {
   "cell_type": "code",
   "execution_count": null,
   "outputs": [],
   "source": [
    "# For each model, evaluate on each time step to understand its generality.\n",
    "accs = {i : [] for i in models.keys()}\n",
    "for i, model in tqdm(models.items(), desc=f'Evaluating models'):\n",
    "    for step in range(9):\n",
    "        # Data\n",
    "        _, _, test_dataloader = load_dataset(dataset_path, steps=[step], test_size=.25, val_size=.15,  shuffle=True, as_torch=True, batch_size=64)\n",
    "        \n",
    "        # Evaluate the model on these data.\n",
    "        loss_fn = CrossEntropyLoss()\n",
    "        accs[i].append(evaluate(model, test_dataloader, loss_fn, verbose=False)[1])"
   ],
   "metadata": {
    "collapsed": false
   },
   "id": "aa217ba6870f755a"
  },
  {
   "cell_type": "code",
   "execution_count": null,
   "outputs": [],
   "source": [
    "# Create a grid of bar charts showing the performance of each model on each measurement step.\n",
    "fig, axes = plt.subplots(3, 3, figsize=(4*3, 3*3), sharey='row', sharex='col')\n",
    "\n",
    "# Colour palette.\n",
    "def colors_from_values(values, palette_name):\n",
    "    indices = np.round(np.array(values) * 100).astype(np.int32)\n",
    "    palette = sns.color_palette(palette_name, 100)\n",
    "    return np.array(palette).take(indices, axis=0)\n",
    "\n",
    "# Plot bars.\n",
    "for i, ax in enumerate(axes.flatten()):\n",
    "    # Set the i-th bar (the measurement step this model was trained on) to be black.\n",
    "    palette = colors_from_values(accs[i], 'flare_r')\n",
    "    palette[i] = [.0, .0, .0]\n",
    "    \n",
    "    sns.barplot(x=np.arange(1, 10), y=accs[i], ax=ax, palette=palette)\n",
    "    \n",
    "    # Add a dashed line on the performance achieved by random guessing.\n",
    "    ax.axhline(1/len(machines), color='k', linestyle='--')\n",
    "    \n",
    "# Beautification.\n",
    "axes[0][0].set_ylim(0, 1)\n",
    "axes[1][0].set_ylim(0, 1)\n",
    "axes[2][0].set_ylim(0, 1)\n",
    "\n",
    "plt.savefig('./figures/mlp/single-measurement-training/performance-across-all-measurement-steps.pdf', bbox_inches='tight')"
   ],
   "metadata": {
    "collapsed": false
   },
   "id": "f244f3e982a086b7"
  },
  {
   "cell_type": "markdown",
   "source": [
    "#### Support Vector Machine (SVM)"
   ],
   "metadata": {
    "collapsed": false
   },
   "id": "9b9ec772105102c8"
  },
  {
   "cell_type": "code",
   "execution_count": null,
   "outputs": [],
   "source": [
    "# Build an SVM for each measurement step.\n",
    "models = {}\n",
    "stats = {}\n",
    "for step in tqdm(range(9), desc='Fitting SVMs'):\n",
    "    # Data.\n",
    "    xs_train, xs_val, _, ys_train, ys_val, _ = load_dataset(dataset_path, steps=[step], test_size=.25, val_size=.15, as_torch=False)\n",
    "    \n",
    "    # Define and fit a classifier on the training data.\n",
    "    svm_model = SVC(kernel='rbf', decision_function_shape='ovr').fit(xs_train, ys_train)\n",
    "    \n",
    "    # Make predictions for the validation set.\n",
    "    ys_train_pred = svm_model.predict(xs_train)\n",
    "    ys_val_pred = svm_model.predict(xs_val)\n",
    "    \n",
    "    # Calculate accuracy.\n",
    "    eps = 1e-3\n",
    "    train_acc = sum(ys_train == ys_train_pred) / ys_train.shape[0]\n",
    "    val_acc = sum(ys_val == ys_val_pred) / ys_val.shape[0]\n",
    "    \n",
    "    # Remember the model and stats.\n",
    "    models[step] = svm_model\n",
    "    stats[step] = [train_acc, val_acc]"
   ],
   "metadata": {
    "collapsed": false
   },
   "id": "54317b0e7f859cdf"
  },
  {
   "cell_type": "code",
   "execution_count": null,
   "outputs": [],
   "source": [
    "# Put the data into a DataFrame -- makes it easy to do grouped bar plots.\n",
    "svm_data = pd.DataFrame({\n",
    "    'Measurement Step' : np.array(list(stats.keys()) * 2) + 1,\n",
    "    'Accuracy' : [x for x, _ in stats.values()] + [x for _, x in stats.values()],\n",
    "    'Dataset' : ['train'] * len(stats) + ['val'] * len(stats)\n",
    "})\n",
    "\n",
    "# Bar plot them.\n",
    "fig, ax = plt.subplots(1, 1, figsize=(8, 3))\n",
    "sns.barplot(data=svm_data, x='Measurement Step', y='Accuracy', hue='Dataset', palette='rocket', ax=ax)\n",
    "\n",
    "# Label the bars.\n",
    "for container in ax.containers:\n",
    "    ax.bar_label(container, fmt='%.2f', fontsize=8)\n",
    "\n",
    "# Beautification.\n",
    "ax.set_ylim(0, 1.05)\n",
    "ax.legend(loc='upper left')\n",
    "\n",
    "plt.savefig('./figures/svm/single-measurement-training/performance-by-measurement-step.pdf', bbox_inches='tight')"
   ],
   "metadata": {
    "collapsed": false
   },
   "id": "cc8e0778335e3e5c"
  },
  {
   "cell_type": "code",
   "execution_count": null,
   "outputs": [],
   "source": [
    "# For each model, evaluate on each time step to understand its generality.\n",
    "accs = {i : [] for i in models.keys()}\n",
    "for i, model in tqdm(models.items(), desc=f'Evaluating models'):\n",
    "    for step in range(9):       \n",
    "        # Data.\n",
    "        _, _, xs_test, _, _, ys_test = load_dataset(dataset_path, steps=[step], test_size=.25, val_size=.15, as_torch=False)\n",
    "        \n",
    "        # Evaluate the model at this measurement step.\n",
    "        ys_pred = model.predict(xs_test)\n",
    "        accs[i].append(sum(ys_pred == ys_test) / len(ys_test))"
   ],
   "metadata": {
    "collapsed": false
   },
   "id": "5ae8ec0bf98cbc"
  },
  {
   "cell_type": "code",
   "execution_count": null,
   "outputs": [],
   "source": [
    "# Create a grid of bar charts showing the performance of each model on each measurement step.\n",
    "fig, axes = plt.subplots(3, 3, figsize=(4*3, 3*3), sharey='row', sharex='col')\n",
    "\n",
    "# Colour palette.\n",
    "def colors_from_values(values, palette_name):\n",
    "    indices = np.round(np.array(values) * 100).astype(np.int32)\n",
    "    palette = sns.color_palette(palette_name, 100)\n",
    "    return np.array(palette).take(indices, axis=0)\n",
    "\n",
    "# Plot bars.\n",
    "for i, ax in enumerate(axes.flatten()):\n",
    "    # Set the i-th bar (the measurement step this model was trained on) to be black.\n",
    "    palette = colors_from_values(accs[i], 'flare_r')\n",
    "    palette[i] = [.0, .0, .0]\n",
    "    \n",
    "    sns.barplot(x=np.arange(1, 10), y=accs[i], ax=ax, palette=palette)\n",
    "    \n",
    "    # Add a dashed line on the performance achieved by random guessing.\n",
    "    ax.axhline(1/len(machines), color='k', linestyle='--')\n",
    "    \n",
    "# Beautification.\n",
    "axes[0][0].set_ylim(0, 1)\n",
    "axes[1][0].set_ylim(0, 1)\n",
    "axes[2][0].set_ylim(0, 1)\n",
    "\n",
    "plt.savefig('./figures/svm/single-measurement-training/performance-across-all-measurement-steps.pdf', bbox_inches='tight')"
   ],
   "metadata": {
    "collapsed": false
   },
   "id": "1ced59cd660ec268"
  },
  {
   "cell_type": "markdown",
   "source": [
    "## Measurement Step Classification\n",
    "\n",
    "Now we turn the task on its head! Given a probability distribution (and possibly the machine that produced it), which measurement step does it belong to? \n",
    "\n",
    "This produces a model that is in some sense able to understand *how* noisy the state is, assuming that the $(k+1)$-th step is at least as noisy as the $k$-th step. Of course, that assumption may not be true, in which case the model is one that characterises noise more generally."
   ],
   "metadata": {
    "collapsed": false
   },
   "id": "3492bd18ec7dffd5"
  },
  {
   "cell_type": "markdown",
   "source": [
    "### Another visualisation, but with measurement step labels"
   ],
   "metadata": {
    "collapsed": false
   },
   "id": "62323bcfe91f9fb2"
  },
  {
   "cell_type": "code",
   "execution_count": null,
   "outputs": [],
   "source": [
    "# Load data. Using all measurement steps is a LOT of data, so let's not use so much just yet.\n",
    "xs, _, _, _, _, _, ys, _, _ = load_flipped_dataset(dataset_path, steps=np.arange(3), test_size=.0, val_size=.0, as_torch=False)\n",
    "\n",
    "# Instantiate and fit a 2D PCA to the distribution data (for the given measurement step).\n",
    "pca = PCA(n_components=2)\n",
    "xs_pca = pca.fit_transform(xs)\n",
    "\n",
    "# Likewise for t-SNE\n",
    "tsne = TSNE(n_components=2)\n",
    "xs_tsne = tsne.fit_transform(xs)\n",
    "\n",
    "# Create DataFrames for them (makes hue options easier).\n",
    "pca_data = pd.DataFrame({'x': xs_pca[:, 0], 'y': xs_pca[:, 1], 'Measurement Step': ys.astype(int)})\n",
    "tsne_data = pd.DataFrame({'x': xs_tsne[:, 0], 'y': xs_tsne[:, 1], 'Measurement Step': ys.astype(int)})"
   ],
   "metadata": {
    "collapsed": false
   },
   "id": "3401f1079543db37"
  },
  {
   "cell_type": "code",
   "execution_count": null,
   "outputs": [],
   "source": [
    "fig, (ax1, ax2) = plt.subplots(1, 2, figsize=(8, 3))\n",
    "palette = 'Dark2'\n",
    "size = 5\n",
    "alpha = .5\n",
    "plot1 = sns.scatterplot(data=pca_data, x='x', y='y', hue='Measurement Step', ax=ax1, s=size, linewidth=0, alpha=alpha, palette=palette)\n",
    "plot2 = sns.scatterplot(data=tsne_data, x='x', y='y', hue='Measurement Step', ax=ax2, s=size, linewidth=0, alpha=alpha, palette=palette)\n",
    "\n",
    "# Beautification.\n",
    "ax1.set_title('PCA')\n",
    "ax2.set_title('$t$-SNE')\n",
    "\n",
    "ax1.set_axis_off()\n",
    "ax2.set_axis_off()\n",
    "\n",
    "ax1.get_legend().remove()\n",
    "legend = ax2.legend(loc='center left', bbox_to_anchor=(1.1, 0.5), markerscale=5, title='Step')\n",
    "legend._legend_box.align = \"left\"\n",
    "\n",
    "plt.savefig('./figures/martina-data-visualisation-by-step.pdf', bbox_inches='tight')"
   ],
   "metadata": {
    "collapsed": false
   },
   "id": "c5918a9cba98015a"
  },
  {
   "cell_type": "code",
   "execution_count": null,
   "outputs": [],
   "source": [
    "# Selecting the data for only one machine.\n",
    "xs, _, _, machine_indices, _, _, ys, _, _ = load_flipped_dataset(dataset_path, steps=np.arange(9), test_size=.0, val_size=.0, as_torch=False)\n",
    "\n",
    "# The machine we'd like to use.\n",
    "machine_idx = 0\n",
    "\n",
    "# Instantiate and fit a 2D PCA to the distribution data (for the given measurement step).\n",
    "pca = PCA(n_components=2)\n",
    "xs_pca = pca.fit_transform(xs[machine_indices == machine_idx])\n",
    "\n",
    "# Likewise for t-SNE\n",
    "tsne = TSNE(n_components=2)\n",
    "xs_tsne = tsne.fit_transform(xs[machine_indices == machine_idx])\n",
    "\n",
    "# Create DataFrames for them (makes hue options easier).\n",
    "pca_data = pd.DataFrame({'x': xs_pca[:, 0], 'y': xs_pca[:, 1], 'Measurement Step': ys[machine_indices == machine_idx].astype(int)})\n",
    "tsne_data = pd.DataFrame({'x': xs_tsne[:, 0], 'y': xs_tsne[:, 1], 'Measurement Step': ys[machine_indices == machine_idx].astype(int)})"
   ],
   "metadata": {
    "collapsed": false
   },
   "id": "890b883a8265bedc"
  },
  {
   "cell_type": "code",
   "execution_count": null,
   "outputs": [],
   "source": [
    "fig, (ax1, ax2) = plt.subplots(1, 2, figsize=(8, 3))\n",
    "palette = 'Dark2'\n",
    "size = 5\n",
    "alpha = 1\n",
    "plot1 = sns.scatterplot(data=pca_data, x='x', y='y', hue='Measurement Step', ax=ax1, s=size, linewidth=0, alpha=alpha, palette=palette)\n",
    "plot2 = sns.scatterplot(data=tsne_data, x='x', y='y', hue='Measurement Step', ax=ax2, s=size, linewidth=0, alpha=alpha, palette=palette)\n",
    "\n",
    "# Beautification.\n",
    "ax1.set_title('PCA')\n",
    "ax2.set_title('$t$-SNE')\n",
    "\n",
    "ax1.set_axis_off()\n",
    "ax2.set_axis_off()\n",
    "\n",
    "ax1.get_legend().remove()\n",
    "legend = ax2.legend(loc='center left', bbox_to_anchor=(1.1, 0.5), markerscale=5, title='Step')\n",
    "legend._legend_box.align = \"left\"\n",
    "\n",
    "plt.savefig('./figures/martina-data-visualisation-by-step-one-machine.pdf', bbox_inches='tight')"
   ],
   "metadata": {
    "collapsed": false
   },
   "id": "82832833609f31b3"
  },
  {
   "cell_type": "markdown",
   "source": [
    "### Training *without* machine indices\n",
    "\n",
    "This is the classification of measurement step from probability distribution alone -- the classifier does not know which machine produced the distribution, nor does it care."
   ],
   "metadata": {
    "collapsed": false
   },
   "id": "22f7b51294bc049e"
  },
  {
   "cell_type": "code",
   "execution_count": 6,
   "outputs": [
    {
     "data": {
      "text/plain": "Top-level training:   0%|          | 0/20 [00:00<?, ?it/s]",
      "application/vnd.jupyter.widget-view+json": {
       "version_major": 2,
       "version_minor": 0,
       "model_id": "b65a0cebc13b42f79cacbfc48fd2df9b"
      }
     },
     "metadata": {},
     "output_type": "display_data"
    },
    {
     "name": "stdout",
     "output_type": "stream",
     "text": [
      "Epoch 001: train loss - 2.108, val loss - 2.017, train acc - 0.237, val acc - 0.324\n",
      "Epoch 002: train loss - 1.962, val loss - 1.902, train acc - 0.463, val acc - 0.584\n",
      "Epoch 003: train loss - 1.845, val loss - 1.804, train acc - 0.630, val acc - 0.648\n",
      "Epoch 004: train loss - 1.780, val loss - 1.760, train acc - 0.657, val acc - 0.668\n",
      "Epoch 005: train loss - 1.739, val loss - 1.722, train acc - 0.703, val acc - 0.721\n",
      "Epoch 006: train loss - 1.711, val loss - 1.700, train acc - 0.722, val acc - 0.727\n",
      "Epoch 007: train loss - 1.693, val loss - 1.686, train acc - 0.728, val acc - 0.731\n",
      "Epoch 008: train loss - 1.680, val loss - 1.675, train acc - 0.732, val acc - 0.736\n",
      "Epoch 009: train loss - 1.671, val loss - 1.668, train acc - 0.734, val acc - 0.737\n",
      "Epoch 010: train loss - 1.665, val loss - 1.662, train acc - 0.737, val acc - 0.739\n",
      "Epoch 011: train loss - 1.659, val loss - 1.658, train acc - 0.738, val acc - 0.739\n",
      "Epoch 012: train loss - 1.655, val loss - 1.655, train acc - 0.739, val acc - 0.739\n",
      "Epoch 013: train loss - 1.652, val loss - 1.651, train acc - 0.740, val acc - 0.742\n",
      "Epoch 014: train loss - 1.650, val loss - 1.649, train acc - 0.741, val acc - 0.742\n",
      "Epoch 015: train loss - 1.647, val loss - 1.647, train acc - 0.742, val acc - 0.742\n",
      "Epoch 016: train loss - 1.646, val loss - 1.645, train acc - 0.742, val acc - 0.743\n",
      "Epoch 017: train loss - 1.644, val loss - 1.644, train acc - 0.742, val acc - 0.742\n",
      "Epoch 018: train loss - 1.642, val loss - 1.642, train acc - 0.743, val acc - 0.742\n",
      "Epoch 019: train loss - 1.641, val loss - 1.641, train acc - 0.743, val acc - 0.744\n",
      "Epoch 020: train loss - 1.640, val loss - 1.641, train acc - 0.743, val acc - 0.741\n"
     ]
    }
   ],
   "source": [
    "from dataset import PyTorchDataset\n",
    "\n",
    "# Load in the data as numpy arrays.\n",
    "n_steps = 9\n",
    "xs_train, xs_val, _, _, _, _, ys_train, ys_val, _ = load_flipped_dataset(dataset_path, steps=np.arange(n_steps), test_size=.25, val_size=.15, shuffle=True, as_torch=False)\n",
    "\n",
    "# Stick it in a couple Dataloaders. We do this manually so as not to rewrite the train steps -- I'm being lazy.\n",
    "batch_size = 64\n",
    "train_dataloader = DataLoader(PyTorchDataset(xs_train, ys_train), batch_size=batch_size, shuffle=True)\n",
    "val_dataloader = DataLoader(PyTorchDataset(xs_val, ys_val), batch_size=batch_size, shuffle=True)\n",
    "\n",
    "# Generate and train a model.\n",
    "hidden_size = 128\n",
    "mlp_model = Sequential(\n",
    "    Linear(4, hidden_size), ReLU(),\n",
    "    Linear(hidden_size, hidden_size), ReLU(),\n",
    "    Linear(hidden_size, n_steps),\n",
    "    Softmax()\n",
    ")\n",
    "train_losses, train_accs, val_losses, val_accs = train(mlp_model, train_dataloader, val_dataloader, n_epochs=20, lr=1e-4, verbose=True)"
   ],
   "metadata": {
    "collapsed": false,
    "ExecuteTime": {
     "end_time": "2024-06-07T18:36:18.314521700Z",
     "start_time": "2024-06-07T18:35:26.220542600Z"
    }
   },
   "id": "e317326e4b3c2664"
  },
  {
   "cell_type": "code",
   "execution_count": 7,
   "outputs": [
    {
     "data": {
      "text/plain": "<Figure size 800x300 with 2 Axes>",
      "image/png": "[encoded data removed]"
     },
     "metadata": {},
     "output_type": "display_data"
    }
   ],
   "source": [
    "# Set up a figure and axes.\n",
    "fig, (ax_loss, ax_acc) = plt.subplots(1, 2, figsize=(8, 3))\n",
    "\n",
    "# Plot the stats.\n",
    "epochs = np.arange(len(train_losses))\n",
    "sns.lineplot(x=epochs, y=train_losses, ax=ax_loss)\n",
    "sns.lineplot(x=epochs, y=val_losses, ax=ax_loss)\n",
    "sns.lineplot(x=epochs, y=train_accs, ax=ax_acc, label='Train')\n",
    "sns.lineplot(x=epochs, y=val_accs, ax=ax_acc, label='Val')\n",
    "\n",
    "# Beautification.\n",
    "ax_loss.set_title('(CCE) Loss')\n",
    "ax_loss.set_xlabel('Epoch')\n",
    "\n",
    "ax_acc.set_title('Accuracy')\n",
    "ax_acc.set_xlabel('Epoch')\n",
    "\n",
    "plt.show()"
   ],
   "metadata": {
    "collapsed": false,
    "ExecuteTime": {
     "end_time": "2024-06-07T18:36:18.626829400Z",
     "start_time": "2024-06-07T18:36:18.318531500Z"
    }
   },
   "id": "71b531317f06af92"
  },
  {
   "cell_type": "code",
   "execution_count": 8,
   "outputs": [
    {
     "data": {
      "text/plain": "Top-level training:   0%|          | 0/20 [00:00<?, ?it/s]",
      "application/vnd.jupyter.widget-view+json": {
       "version_major": 2,
       "version_minor": 0,
       "model_id": "a965d3ac5193489bbf7188fc0dc11f34"
      }
     },
     "metadata": {},
     "output_type": "display_data"
    },
    {
     "data": {
      "text/plain": "Top-level training:   0%|          | 0/20 [00:00<?, ?it/s]",
      "application/vnd.jupyter.widget-view+json": {
       "version_major": 2,
       "version_minor": 0,
       "model_id": "f69efc48474844f3be1b9c425241d2dc"
      }
     },
     "metadata": {},
     "output_type": "display_data"
    },
    {
     "data": {
      "text/plain": "Top-level training:   0%|          | 0/20 [00:00<?, ?it/s]",
      "application/vnd.jupyter.widget-view+json": {
       "version_major": 2,
       "version_minor": 0,
       "model_id": "db0c8d5cf34140ffa1116dc29ebc00a6"
      }
     },
     "metadata": {},
     "output_type": "display_data"
    },
    {
     "data": {
      "text/plain": "Top-level training:   0%|          | 0/20 [00:00<?, ?it/s]",
      "application/vnd.jupyter.widget-view+json": {
       "version_major": 2,
       "version_minor": 0,
       "model_id": "6570461e16a74c09834bf3f87482cc01"
      }
     },
     "metadata": {},
     "output_type": "display_data"
    },
    {
     "data": {
      "text/plain": "Top-level training:   0%|          | 0/20 [00:00<?, ?it/s]",
      "application/vnd.jupyter.widget-view+json": {
       "version_major": 2,
       "version_minor": 0,
       "model_id": "365060a027d74751a00dcce00acbffac"
      }
     },
     "metadata": {},
     "output_type": "display_data"
    },
    {
     "data": {
      "text/plain": "Top-level training:   0%|          | 0/20 [00:00<?, ?it/s]",
      "application/vnd.jupyter.widget-view+json": {
       "version_major": 2,
       "version_minor": 0,
       "model_id": "89573f61415840eab77a3f0f078491ff"
      }
     },
     "metadata": {},
     "output_type": "display_data"
    }
   ],
   "source": [
    "# Now we train a classifier for each machine independently, like we did previously.\n",
    "models = {}\n",
    "stats = {}\n",
    "for machine_idx in range(len(machines)):\n",
    "    # Load in the data as numpy arrays.\n",
    "    n_steps = 9\n",
    "    xs_train, xs_val, _, machine_indices_train, machine_indices_val, _, ys_train, ys_val, _ = load_flipped_dataset(dataset_path, steps=np.arange(n_steps), test_size=.25, val_size=.15, shuffle=True, as_torch=False)\n",
    "    \n",
    "    # Filter to only the current machine.\n",
    "    xs_train = xs_train[machine_indices_train == machine_idx]\n",
    "    ys_train = ys_train[machine_indices_train == machine_idx]\n",
    "    xs_val = xs_val[machine_indices_val == machine_idx]\n",
    "    ys_val = ys_val[machine_indices_val == machine_idx]\n",
    "\n",
    "    # Stick it in a couple Dataloaders. We do this manually so as not to rewrite the train steps -- I'm being lazy.\n",
    "    batch_size = 64\n",
    "    train_dataloader = DataLoader(PyTorchDataset(xs_train, ys_train), batch_size=batch_size, shuffle=True)\n",
    "    val_dataloader = DataLoader(PyTorchDataset(xs_val, ys_val), batch_size=batch_size, shuffle=True)\n",
    "    \n",
    "    # Generate and train a model.\n",
    "    hidden_size = 128\n",
    "    mlp_model = Sequential(\n",
    "        Linear(4, hidden_size), ReLU(),\n",
    "        Linear(hidden_size, hidden_size), ReLU(),\n",
    "        Linear(hidden_size, n_steps),\n",
    "        Softmax()\n",
    "    )\n",
    "    train_losses, train_accs, val_losses, val_accs = train(mlp_model, train_dataloader, val_dataloader, n_epochs=20, lr=1e-4, verbose=False)\n",
    "    \n",
    "    # Save the model and stats.\n",
    "    models[machine_idx] = mlp_model\n",
    "    stats[machine_idx] = [train_losses, train_accs, val_losses, val_accs]"
   ],
   "metadata": {
    "collapsed": false,
    "ExecuteTime": {
     "end_time": "2024-06-07T18:37:08.456091600Z",
     "start_time": "2024-06-07T18:36:18.609860Z"
    }
   },
   "id": "2205c9fcf37d1b3f"
  },
  {
   "cell_type": "code",
   "execution_count": 32,
   "outputs": [
    {
     "data": {
      "text/plain": "<Figure size 400x300 with 1 Axes>",
      "image/png": "[encoded data removed]"
     },
     "metadata": {},
     "output_type": "display_data"
    }
   ],
   "source": [
    "# Extract the best validation loss and accuracy from each model.\n",
    "best_accs = [max(model_stats[3]) for model_stats in stats.values()]\n",
    "\n",
    "# Colour palette.\n",
    "def colors_from_values(values, palette_name):\n",
    "    indices = np.round(((np.array(values) - .6) / .4) * 100).astype(np.int32)\n",
    "    palette = sns.color_palette(palette_name, 100)\n",
    "    return np.array(palette).take(indices, axis=0)\n",
    "\n",
    "# Plot 'em.\n",
    "fig, ax = plt.subplots(1, 1, figsize=(4, 3))\n",
    "sns.barplot(x=machines, y=best_accs, palette=colors_from_values(best_accs, 'flare_r'), ax=ax)\n",
    "\n",
    "# Label the bars.\n",
    "for container in ax.containers:\n",
    "    ax.bar_label(container, fmt='%.2f', fontsize=8)\n",
    "\n",
    "# Beautification.\n",
    "ax.set_title('Measurement Step Classification Accuracy')\n",
    "ax.set_ylim(0, 1.06)\n",
    "ax.set_xticklabels([ms.split('_')[-1].capitalize() for ms in machines], rotation=90)\n",
    "\n",
    "plt.savefig('./figures/mlp/single-measurement-training/step-classification-by-machine.pdf', bbox_inches='tight')"
   ],
   "metadata": {
    "collapsed": false,
    "ExecuteTime": {
     "end_time": "2024-06-07T18:48:07.418990300Z",
     "start_time": "2024-06-07T18:48:06.999172800Z"
    }
   },
   "id": "dd6c45626a633db"
  }
 ],
 "metadata": {
  "kernelspec": {
   "display_name": "Python 3",
   "language": "python",
   "name": "python3"
  },
  "language_info": {
   "codemirror_mode": {
    "name": "ipython",
    "version": 2
   },
   "file_extension": ".py",
   "mimetype": "text/x-python",
   "name": "python",
   "nbconvert_exporter": "python",
   "pygments_lexer": "ipython2",
   "version": "2.7.6"
  }
 },
 "nbformat": 4,
 "nbformat_minor": 5
}
