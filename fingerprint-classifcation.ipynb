{
 "cells": [
  {
   "cell_type": "code",
   "execution_count": 2,
   "id": "initial_id",
   "metadata": {
    "collapsed": true,
    "ExecuteTime": {
     "end_time": "2024-05-30T17:42:31.263545400Z",
     "start_time": "2024-05-30T17:42:31.245604400Z"
    }
   },
   "outputs": [],
   "source": [
    "# Imports, as always...\n",
    "from os import listdir\n",
    "import pandas as pd"
   ]
  },
  {
   "cell_type": "markdown",
   "source": [
    "# Fingerprint Classification\n",
    "\n",
    "This notebook aims to replicate and advance the approaches to classification in [Martina et al. (2021)](https://arxiv.org/pdf/2109.11405), in which an SVM is used to binarily classify whether a given classical measurement was or was not produced by a given quantum circuit.\n",
    "\n",
    "This is a simple task which, when taken together with their *very* small circuit, yields for near perfect accuracy. Here, we will complicate things to push the capability of the models to investigate more thoroughly what may or may not be possible with regard to classifying the membership of a quantum state to a quantum device by its \"noise fingerprint\". \n",
    "\n",
    "The ideas fitting into the work of this notebook are as follows:\n",
    "- *Multi-class classification*. Using the data produced by Martina et al. (2021), can we present a multi-class prediction model that is not given any bias towards any particular model -- given a measurement of a quantum state, which device produced it?\n",
    "- *Larger/deeper circuits*. How does the performance degrade as the number of qubits increases, or as the circuit depth increases?\n",
    "- *Noise severity analysis*. Under which severities/forms of noise is performance best? Ideally, we can produce a visualisation of performance (e.g. accuracy) vs. noise intensity/severity. We might expect poor performance with little/no noise (not enough distinguishing information between membership classes), good performance with moderate noise, then poor performance again with large amounts of noise (too much randomness).\n",
    "\n",
    "For clarity, 'membership to a quantum device' in this context refers to 'being produced by that device'."
   ],
   "metadata": {
    "collapsed": false
   },
   "id": "63461cca007c2f91"
  },
  {
   "cell_type": "markdown",
   "source": [
    "## Martina et al. (2021)'s (FAST) Dataset"
   ],
   "metadata": {
    "collapsed": false
   },
   "id": "f89fcfc949817c9c"
  },
  {
   "cell_type": "code",
   "execution_count": 7,
   "outputs": [
    {
     "data": {
      "text/plain": "{'ibmq_athens': 750,\n 'ibmq_bogota': 250,\n 'ibmq_casablanca': 500,\n 'ibmq_lima': 250,\n 'ibmq_quito': 250,\n 'ibmq_santiago': 250,\n 'ibmq_5_yorktown': 250}"
     },
     "metadata": {},
     "output_type": "display_data"
    }
   ],
   "source": [
    "# List all files in the \"walker\" directory.\n",
    "filelist = listdir('./martina-data/walker')\n",
    "\n",
    "# List of machines.\n",
    "machines = ['ibmq_athens', 'ibmq_bogota', 'ibmq_casablanca', 'ibmq_lima', 'ibmq_quito', 'ibmq_santiago', 'ibmq_5_yorktown']\n",
    "\n",
    "# How many files does each machine have.\n",
    "counts = {machine : 0 for machine in machines}\n",
    "for file in filelist:\n",
    "    for machine in machines:\n",
    "        if machine in file:\n",
    "            counts[machine] += 1\n",
    "\n",
    "display(counts)"
   ],
   "metadata": {
    "collapsed": false,
    "ExecuteTime": {
     "end_time": "2024-05-30T17:48:52.859232400Z",
     "start_time": "2024-05-30T17:48:52.788616200Z"
    }
   },
   "id": "58024dbd026b791e"
  },
  {
   "cell_type": "markdown",
   "source": [
    "## Multi-class Classification\n",
    "\n",
    "Given the measurement of a quantum state, what is the probability distribution over the set of devices (for the likelihood of membership), and subsequently which device is most likely to have produced the state?"
   ],
   "metadata": {
    "collapsed": false
   },
   "id": "c669d22f09703309"
  },
  {
   "cell_type": "code",
   "execution_count": null,
   "outputs": [],
   "source": [],
   "metadata": {
    "collapsed": false
   },
   "id": "dcae3b92b608bee1"
  }
 ],
 "metadata": {
  "kernelspec": {
   "display_name": "Python 3",
   "language": "python",
   "name": "python3"
  },
  "language_info": {
   "codemirror_mode": {
    "name": "ipython",
    "version": 2
   },
   "file_extension": ".py",
   "mimetype": "text/x-python",
   "name": "python",
   "nbconvert_exporter": "python",
   "pygments_lexer": "ipython2",
   "version": "2.7.6"
  }
 },
 "nbformat": 4,
 "nbformat_minor": 5
}
