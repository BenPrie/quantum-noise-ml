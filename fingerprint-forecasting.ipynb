{
 "cells": [
  {
   "cell_type": "code",
   "execution_count": 96,
   "id": "initial_id",
   "metadata": {
    "collapsed": true,
    "ExecuteTime": {
     "end_time": "2024-06-14T00:34:48.707910600Z",
     "start_time": "2024-06-14T00:34:48.700600300Z"
    }
   },
   "outputs": [],
   "source": [
    "# Imports, as always...\n",
    "from os import makedirs, path\n",
    "from tqdm.notebook import tqdm\n",
    "import numpy as np\n",
    "import pandas as pd\n",
    "import torch\n",
    "\n",
    "from torch.utils.data import Dataset, DataLoader\n",
    "\n",
    "from torch.nn import Module, LSTM, Linear, Softmax\n",
    "from torch.optim import Adam\n",
    "from torch.nn import L1Loss, MSELoss\n",
    "\n",
    "# Date and time information for file saving.\n",
    "from datetime import datetime\n",
    "\n",
    "current_date = datetime.now().strftime(\"%d-%m-%Y\")\n",
    "current_time = datetime.now().strftime(\"%H-%M-%S\")\n",
    "\n",
    "# Script imports.\n",
    "from dataset import load_dataset, load_flipped_dataset, PyTorchDataset\n",
    "\n",
    "# Graphical imports.\n",
    "import matplotlib.pyplot as plt\n",
    "import seaborn as sns\n",
    "\n",
    "# Styling.\n",
    "palette = 'deep'\n",
    "sns.set_theme(style='darkgrid', palette=palette)\n",
    "\n",
    "# Ignore warnings.\n",
    "import warnings\n",
    "\n",
    "warnings.filterwarnings('ignore')"
   ]
  },
  {
   "cell_type": "code",
   "execution_count": 2,
   "outputs": [],
   "source": [
    "# Random seeds.\n",
    "torch.manual_seed(42)\n",
    "np.random.seed(42)"
   ],
   "metadata": {
    "collapsed": false,
    "ExecuteTime": {
     "end_time": "2024-06-13T16:22:46.018643500Z",
     "start_time": "2024-06-13T16:22:45.999383600Z"
    }
   },
   "id": "d9ac4d15bc6c7f41"
  },
  {
   "cell_type": "code",
   "execution_count": 3,
   "outputs": [],
   "source": [
    "dataset_path = 'martina/data/walkerDataset/all-dataset-1000.npz'\n",
    "machines = [\n",
    "    'ibmq_athens', 'ibmq_casablanca', 'ibmq_lima', 'ibmq_quito', 'ibmq_santiago', 'ibmq_5_yorktown'\n",
    "]\n",
    "machine_names = [ms.split('_')[-1].capitalize() for ms in machines]"
   ],
   "metadata": {
    "collapsed": false,
    "ExecuteTime": {
     "end_time": "2024-06-13T16:22:46.018643500Z",
     "start_time": "2024-06-13T16:22:46.013164500Z"
    }
   },
   "id": "1dfa72125f72bd3a"
  },
  {
   "cell_type": "markdown",
   "source": [
    "# Fingerprint Forecasting\n",
    "\n",
    "This notebook looks to capitalise on the sequenced nature of the data to try and forecast the fingerprint of quantum devices, thus providing a model that can predict future (or past) noise. \n",
    "\n",
    "Some applications of this that would be interesting:\n",
    "- *Extrapolation to the origin*. Knowing how the noise fingerprint evolves raises begs the question: can we forecast backwards towards an \"origin\" time step, where no noise would have been laid? How much time do we need before we can accurately forecast the origin time step? To realise this application, it may only be necessary to reverse the data sequence and predict the next step.\n",
    "- *Real-time noise mitigation*. Knowing what the noise fingerprint will look like in the future would allow us to anticipate the effects that will have on our future measurements, and perhaps allows us to pre-emptively bias the state before measurement to counteract that effect. "
   ],
   "metadata": {
    "collapsed": false
   },
   "id": "72a34fea3239a44d"
  },
  {
   "cell_type": "markdown",
   "source": [
    "## Sequence Prediction"
   ],
   "metadata": {
    "collapsed": false
   },
   "id": "beaa3e5b9216b8f2"
  },
  {
   "cell_type": "markdown",
   "source": [
    "This is the task of predicting the next entry in a given sequence. This can be arbitrarily interesting, from guessing the $(k+1)$-th sequence element given $1,\\dots,k$, to guessing the $1$-st given $k,\\dots,2$."
   ],
   "metadata": {
    "collapsed": false
   },
   "id": "95410a5b7a4a41a9"
  },
  {
   "cell_type": "markdown",
   "source": [
    "## Creating the dataset\n",
    "\n",
    "We'll be needing data of the form $\\mathbf{x}_i=(x_i^{(1)},\\dots,x_i^{(k-1)}),\\mathbf{y}_i=x_i^{(k)}$, for measurement steps $1,\\dots,k$. "
   ],
   "metadata": {
    "collapsed": false
   },
   "id": "fc485519a979b4cb"
  },
  {
   "cell_type": "code",
   "execution_count": 4,
   "outputs": [],
   "source": [
    "# Function to create the datasets for sequence prediction.\n",
    "def create_sequence_prediction_datasets(steps : np.array, target_step : int, test_size : float, val_size : float, shuffle : bool = True, as_torch : bool = True, batch_size : int = None, seed : int = 42):\n",
    "    assert target_step in steps, \"Target step is not in given measurement steps.\"\n",
    "    \n",
    "    # Setting randomness seeds.\n",
    "    torch.manual_seed(seed)\n",
    "    np.random.seed(seed)\n",
    "    \n",
    "    # Load the full sequence.\n",
    "    all_train, all_val, all_test, _, _, _ = load_dataset(\n",
    "        dataset_path, \n",
    "        steps=steps, \n",
    "        test_size=test_size, val_size=val_size,\n",
    "        shuffle=shuffle,\n",
    "        as_torch=False\n",
    "    )\n",
    "    \n",
    "    # Separate into sample and target.\n",
    "    xs_train, ys_train = all_train[:, np.arange(all_train.shape[1]) != target_step, :], all_train[:, target_step, :]\n",
    "    xs_val, ys_val = all_val[:, np.arange(all_val.shape[1]) != target_step, :], all_val[:, target_step, :]\n",
    "    xs_test, ys_test = all_test[:, np.arange(all_test.shape[1]) != target_step, :], all_test[:, target_step, :]\n",
    "    \n",
    "    # Convert to PyTorch if necessary.\n",
    "    if as_torch:\n",
    "        # Dataset objects.\n",
    "        train_dataset = PyTorchDataset(xs_train, ys_train)\n",
    "        if val_size > 0: val_dataset = PyTorchDataset(xs_val, ys_val)\n",
    "        else: val_dataset = None\n",
    "        if test_size > 0: test_dataset = PyTorchDataset(xs_test, ys_test)\n",
    "        else: test_dataset = None\n",
    "\n",
    "        # Convert further into Dataloaders if a batch size is specified.\n",
    "        if batch_size:\n",
    "            train_dataloader = DataLoader(train_dataset, batch_size=batch_size, shuffle=shuffle)\n",
    "            if val_size > 0: val_dataloader = DataLoader(val_dataset, batch_size=batch_size, shuffle=shuffle)\n",
    "            else: val_dataloader = None\n",
    "            if test_size > 0: test_dataloader = DataLoader(test_dataset, batch_size=batch_size, shuffle=shuffle)\n",
    "            else: test_dataloader = None\n",
    "\n",
    "            return train_dataloader, val_dataloader, test_dataloader\n",
    "\n",
    "        # Otherwise, a dataset will do.\n",
    "        return train_dataset, val_dataset, test_dataset\n",
    "\n",
    "    # Otherwise, return the numpy arrays.\n",
    "    return xs_train, xs_val, xs_test, ys_train, ys_val, ys_test"
   ],
   "metadata": {
    "collapsed": false,
    "ExecuteTime": {
     "end_time": "2024-06-13T16:22:46.037675500Z",
     "start_time": "2024-06-13T16:22:46.026141100Z"
    }
   },
   "id": "c4fac4cfed2a3bbe"
  },
  {
   "cell_type": "code",
   "execution_count": 6,
   "outputs": [
    {
     "name": "stdout",
     "output_type": "stream",
     "text": [
      "Steps 1-8:\n",
      "[[0.523 0.473 0.002 0.002]\n",
      " [0.33  0.276 0.148 0.246]\n",
      " [0.22  0.437 0.147 0.196]\n",
      " [0.19  0.477 0.128 0.205]\n",
      " [0.226 0.344 0.154 0.276]\n",
      " [0.292 0.237 0.245 0.226]\n",
      " [0.31  0.247 0.261 0.182]\n",
      " [0.313 0.198 0.246 0.243]]\n",
      "\n",
      "Step 9:\n",
      "[0.307 0.271 0.231 0.191]\n"
     ]
    }
   ],
   "source": [
    "# e.g.\n",
    "train_dataset, val_dataset, _ = create_sequence_prediction_datasets(steps=np.arange(9), target_step=8, test_size=.25, val_size=.15, shuffle=True, as_torch=True, batch_size=None)\n",
    "\n",
    "for x, y in train_dataset:\n",
    "    print('Steps 1-8:')\n",
    "    print(x)\n",
    "    print('\\nStep 9:')\n",
    "    print(y)\n",
    "    break"
   ],
   "metadata": {
    "collapsed": false,
    "ExecuteTime": {
     "end_time": "2024-06-13T16:22:52.336117300Z",
     "start_time": "2024-06-13T16:22:52.319723100Z"
    }
   },
   "id": "7909556fd41d511e"
  },
  {
   "cell_type": "code",
   "execution_count": 13,
   "outputs": [
    {
     "data": {
      "text/plain": "torch.Size([8, 4, 1])"
     },
     "execution_count": 13,
     "metadata": {},
     "output_type": "execute_result"
    }
   ],
   "source": [
    "torch.tensor(x).unsqueeze(-1)"
   ],
   "metadata": {
    "collapsed": false,
    "ExecuteTime": {
     "end_time": "2024-06-13T18:50:21.087621900Z",
     "start_time": "2024-06-13T18:50:21.084087400Z"
    }
   },
   "id": "726eecb58d481c81"
  },
  {
   "cell_type": "code",
   "execution_count": 14,
   "outputs": [
    {
     "name": "stdout",
     "output_type": "stream",
     "text": [
      "torch.Size([64, 8, 4])\n",
      "torch.Size([64, 8, 4, 1])\n"
     ]
    }
   ],
   "source": [
    "train_dataloader, val_dataloader, _ = create_sequence_prediction_datasets(steps=np.arange(9), target_step=8, test_size=.25, val_size=.15, shuffle=True, as_torch=True, batch_size=64)\n",
    "\n",
    "for xs, ys in train_dataloader:\n",
    "    print(xs.shape)\n",
    "    print(xs.unsqueeze(-1).shape)\n",
    "    break"
   ],
   "metadata": {
    "collapsed": false,
    "ExecuteTime": {
     "end_time": "2024-06-13T18:52:05.677499900Z",
     "start_time": "2024-06-13T18:52:05.644412100Z"
    }
   },
   "id": "855ee022dd23417a"
  },
  {
   "cell_type": "markdown",
   "source": [
    "Note: I haven't checked for a trend in the time series (other than in data exploration), and I further haven't de-trended if there is any trend. "
   ],
   "metadata": {
    "collapsed": false
   },
   "id": "9e956586e34a17af"
  },
  {
   "cell_type": "markdown",
   "source": [
    "### LSTM"
   ],
   "metadata": {
    "collapsed": false
   },
   "id": "355188313d76fbfe"
  },
  {
   "cell_type": "code",
   "execution_count": 27,
   "outputs": [],
   "source": [
    "class LSTMForecaster(Module):\n",
    "    def __init__(self, input_size, hidden_size, output_size, num_layers):\n",
    "        super(LSTMForecaster, self).__init__()\n",
    "        \n",
    "        self.hidden_size = hidden_size\n",
    "        self.num_layers = num_layers\n",
    "        \n",
    "        # Component layers.\n",
    "        self.lstm = LSTM(input_size=input_size, hidden_size=hidden_size, num_layers=num_layers, batch_first=True)\n",
    "        self.fc = Linear(in_features=hidden_size, out_features=output_size)\n",
    "        self.softmax = Softmax()\n",
    "        \n",
    "    def forward(self, x):\n",
    "        h0 = torch.zeros(self.num_layers, x.size(0), self.hidden_size)\n",
    "        c0 = torch.zeros(self.num_layers, x.size(0), self.hidden_size)\n",
    "        \n",
    "        out, _ = self.lstm(x, (h0, c0))\n",
    "        out = self.fc(out[:, -1, :])\n",
    "        out = self.softmax(out)\n",
    "        \n",
    "        return out"
   ],
   "metadata": {
    "collapsed": false,
    "ExecuteTime": {
     "end_time": "2024-06-13T19:24:35.405894700Z",
     "start_time": "2024-06-13T19:24:35.383850200Z"
    }
   },
   "id": "b3796fe975bb96b6"
  },
  {
   "cell_type": "code",
   "execution_count": 99,
   "outputs": [
    {
     "data": {
      "text/plain": "  0%|          | 0/25 [00:00<?, ?it/s]",
      "application/vnd.jupyter.widget-view+json": {
       "version_major": 2,
       "version_minor": 0,
       "model_id": "5d7bfa7f132f4f929bdde46a250da9e7"
      }
     },
     "metadata": {},
     "output_type": "display_data"
    },
    {
     "name": "stdout",
     "output_type": "stream",
     "text": [
      "Epoch 001: train loss - 0.02641848527515928\n",
      "Epoch 002: train loss - 0.023297771780441203\n",
      "Epoch 003: train loss - 0.020154983441655835\n",
      "Epoch 004: train loss - 0.018958563326547544\n",
      "Epoch 005: train loss - 0.018525179599722226\n",
      "Epoch 006: train loss - 0.01784823602065444\n",
      "Epoch 007: train loss - 0.017243628141780695\n",
      "Epoch 008: train loss - 0.016631159659785528\n",
      "Epoch 009: train loss - 0.016019134308832388\n",
      "Epoch 010: train loss - 0.015598870938022931\n",
      "Epoch 011: train loss - 0.01544890800335755\n",
      "Epoch 012: train loss - 0.01518800260964781\n",
      "Epoch 013: train loss - 0.015002257532129686\n",
      "Epoch 014: train loss - 0.014757383133595188\n",
      "Epoch 015: train loss - 0.014684912290734549\n",
      "Epoch 016: train loss - 0.01446324223652482\n",
      "Epoch 017: train loss - 0.01436498500406742\n",
      "Epoch 018: train loss - 0.014319753701177737\n",
      "Epoch 019: train loss - 0.01418041951643924\n",
      "Epoch 020: train loss - 0.014164739521220326\n",
      "Epoch 021: train loss - 0.014126175184113283\n",
      "Epoch 022: train loss - 0.014015039871446788\n",
      "Epoch 023: train loss - 0.014043235910745959\n",
      "Epoch 024: train loss - 0.013995762130556007\n",
      "Epoch 025: train loss - 0.013922320236451924\n"
     ]
    }
   ],
   "source": [
    "# Data.\n",
    "train_dataloader, val_dataloader, _ = create_sequence_prediction_datasets(steps=np.arange(9), target_step=8, test_size=.25, val_size=.15, shuffle=True, as_torch=True, batch_size=64)\n",
    "\n",
    "# LSTM Forecaster model.\n",
    "lstm_model = LSTMForecaster(input_size=4, hidden_size=128, num_layers=1, output_size=4)\n",
    "\n",
    "# Loss function and optimiser.\n",
    "loss_fn = L1Loss()\n",
    "optimiser = Adam(lstm_model.parameters(), lr=1e-3)\n",
    "\n",
    "# Training.\n",
    "for epoch in tqdm(range(25)):\n",
    "    running_loss = .0\n",
    "    \n",
    "    for xs, ys_true in train_dataloader:\n",
    "        # Reset gradients.\n",
    "        optimiser.zero_grad()\n",
    "        \n",
    "        # Predict.\n",
    "        ys_pred = lstm_model(xs)\n",
    "        \n",
    "        # Loss.\n",
    "        loss = loss_fn(ys_pred, ys_true)\n",
    "        running_loss += loss.item()\n",
    "        \n",
    "        # Update weights.\n",
    "        loss.backward()\n",
    "        optimiser.step()\n",
    "        \n",
    "    print(f'Epoch {epoch+1:03d}: train loss - {running_loss / len(train_dataloader)}')"
   ],
   "metadata": {
    "collapsed": false,
    "ExecuteTime": {
     "end_time": "2024-06-14T00:35:42.578372Z",
     "start_time": "2024-06-14T00:35:29.380654500Z"
    }
   },
   "id": "268e091744c5ae99"
  },
  {
   "cell_type": "code",
   "execution_count": 100,
   "outputs": [
    {
     "data": {
      "text/plain": "(array([0.315, 0.253, 0.236, 0.196], dtype=float32),\n array([0.307, 0.271, 0.231, 0.191], dtype=float32))"
     },
     "execution_count": 100,
     "metadata": {},
     "output_type": "execute_result"
    }
   ],
   "source": [
    "example_idx = 0\n",
    "lstm_model(torch.tensor([train_dataset[example_idx][0]]))[0].detach().numpy().round(3), train_dataset[example_idx][1]"
   ],
   "metadata": {
    "collapsed": false,
    "ExecuteTime": {
     "end_time": "2024-06-14T00:35:45.987075900Z",
     "start_time": "2024-06-14T00:35:45.973589100Z"
    }
   },
   "id": "bfdeeec14d8c66e"
  },
  {
   "cell_type": "code",
   "execution_count": 104,
   "outputs": [],
   "source": [
    "# Function to perform a single training step (i.e. one epoch).\n",
    "def training_step(model, loader, optimiser, loss_fn):\n",
    "    # Use train mode.\n",
    "    model.train()\n",
    "    \n",
    "    # Track the running loss.\n",
    "    running_loss = .0\n",
    "    \n",
    "    # Iterate over the loader (if verbose is true, give a progress bar).\n",
    "    for xs, ys_true in loader:\n",
    "        # Zero gradients.\n",
    "        optimiser.zero_grad()\n",
    "        \n",
    "        # Predict labels.\n",
    "        ys_pred = model(xs)\n",
    "        \n",
    "        # Compute loss (adding to the running loss) and calculate gradients.\n",
    "        loss = loss_fn(ys_pred, ys_true)\n",
    "        running_loss += loss.item()\n",
    "        loss.backward()\n",
    "        \n",
    "        # Adjust weights.\n",
    "        optimiser.step()\n",
    "        \n",
    "    # Return the average loss over the epoch.\n",
    "    return running_loss / len(loader) \n",
    "\n",
    "# Function to evaluate with the given loader (i.e. validation/testing).\n",
    "def evaluate(model, loader, loss_fn):\n",
    "    # Use evaluation mode.\n",
    "    model.eval()\n",
    "    \n",
    "    # Track the running loss.\n",
    "    running_loss = .0\n",
    "    \n",
    "    # For evaluation, we do not track gradients.\n",
    "    with torch.no_grad():\n",
    "        # Iterate over the loader (if verbose is true, give a progress bar).\n",
    "        for xs, ys_true in loader:\n",
    "            # Predict labels.\n",
    "            ys_pred = model(xs)\n",
    "            \n",
    "            # Compute loss (adding to the running loss).\n",
    "            running_loss += loss_fn(ys_pred, ys_true).item()\n",
    "            \n",
    "    # Return the average loss over the loader.\n",
    "    return running_loss / len(loader)\n",
    "\n",
    "# Function to perform a full training routine.\n",
    "def train(model, train_loader, val_loader, n_epochs, lr=1e-3, weight_decay=.0, verbose=False, save_dir=None, save_file_name='model-dict'):\n",
    "    # Create the save directory.\n",
    "    if save_dir: makedirs(save_dir, exist_ok=True)\n",
    "    \n",
    "    # Set up an optimiser and loss function.\n",
    "    optimiser = Adam(params=model.parameters(), lr=lr, weight_decay=weight_decay)\n",
    "    loss_fn = L1Loss()\n",
    "    \n",
    "    # Track the best validation loss so that we may return to the best weights on termination.\n",
    "    best_val_loss = np.inf\n",
    "    best_state = model.state_dict()\n",
    "    \n",
    "    # Remember the training statistics, just in case someone feels like plotting it.\n",
    "    train_losses, val_losses = [], []\n",
    "    \n",
    "    for epoch_idx in (tqdm(np.arange(1, n_epochs + 1), desc='Top-level training') if verbose else np.arange(1, n_epochs + 1)):\n",
    "        # Train the model.\n",
    "        train_loss = training_step(model, train_loader, optimiser, loss_fn)\n",
    "        val_loss = evaluate(model, val_loader, loss_fn)\n",
    "        \n",
    "        # Store those stats.\n",
    "        train_losses.append(train_loss)\n",
    "        val_losses.append(val_loss)\n",
    "        \n",
    "        # Update the best validation loss and remember the model's state.\n",
    "        if val_loss < best_val_loss:\n",
    "            best_val_loss = val_loss\n",
    "            best_state = model.state_dict()\n",
    "            \n",
    "            # Save the model (if a save path has been given).\n",
    "            if save_dir: torch.save(best_state, path.join(save_dir, f'{save_file_name}.pt'))\n",
    "        \n",
    "        # Print the stats (if verbose).\n",
    "        if verbose:\n",
    "            print(f'Epoch {epoch_idx:03d}: train loss - {train_loss:.3f}, val loss - {val_loss:.3f}')\n",
    "            \n",
    "    # Restore the best model in validation.\n",
    "    model.load_state_dict(best_state)\n",
    "            \n",
    "    # Return the stats.\n",
    "    return train_losses, val_losses"
   ],
   "metadata": {
    "collapsed": false,
    "ExecuteTime": {
     "end_time": "2024-06-14T00:39:10.068756500Z",
     "start_time": "2024-06-14T00:39:10.064241200Z"
    }
   },
   "id": "ccc3762a3cbadca9"
  },
  {
   "cell_type": "code",
   "execution_count": 105,
   "outputs": [
    {
     "data": {
      "text/plain": "Top-level training:   0%|          | 0/25 [00:00<?, ?it/s]",
      "application/vnd.jupyter.widget-view+json": {
       "version_major": 2,
       "version_minor": 0,
       "model_id": "fa09bb6227914198a27fbf4688cd9f69"
      }
     },
     "metadata": {},
     "output_type": "display_data"
    },
    {
     "name": "stdout",
     "output_type": "stream",
     "text": [
      "Epoch 001: train loss - 0.026, val loss - 0.025\n",
      "Epoch 002: train loss - 0.023, val loss - 0.021\n",
      "Epoch 003: train loss - 0.020, val loss - 0.019\n",
      "Epoch 004: train loss - 0.019, val loss - 0.019\n",
      "Epoch 005: train loss - 0.018, val loss - 0.019\n",
      "Epoch 006: train loss - 0.018, val loss - 0.018\n",
      "Epoch 007: train loss - 0.017, val loss - 0.017\n",
      "Epoch 008: train loss - 0.017, val loss - 0.017\n",
      "Epoch 009: train loss - 0.016, val loss - 0.016\n",
      "Epoch 010: train loss - 0.016, val loss - 0.016\n",
      "Epoch 011: train loss - 0.015, val loss - 0.016\n",
      "Epoch 012: train loss - 0.015, val loss - 0.015\n",
      "Epoch 013: train loss - 0.015, val loss - 0.015\n",
      "Epoch 014: train loss - 0.015, val loss - 0.015\n",
      "Epoch 015: train loss - 0.015, val loss - 0.015\n",
      "Epoch 016: train loss - 0.014, val loss - 0.015\n",
      "Epoch 017: train loss - 0.014, val loss - 0.014\n",
      "Epoch 018: train loss - 0.014, val loss - 0.014\n",
      "Epoch 019: train loss - 0.014, val loss - 0.014\n",
      "Epoch 020: train loss - 0.014, val loss - 0.014\n",
      "Epoch 021: train loss - 0.014, val loss - 0.014\n",
      "Epoch 022: train loss - 0.014, val loss - 0.014\n",
      "Epoch 023: train loss - 0.014, val loss - 0.014\n",
      "Epoch 024: train loss - 0.014, val loss - 0.015\n",
      "Epoch 025: train loss - 0.014, val loss - 0.014\n"
     ]
    }
   ],
   "source": [
    "# Data.\n",
    "train_dataloader, val_dataloader, _ = create_sequence_prediction_datasets(steps=np.arange(9), target_step=8, test_size=.25, val_size=.15, shuffle=True, as_torch=True, batch_size=64)\n",
    "\n",
    "# LSTM Forecaster model.\n",
    "lstm_model = LSTMForecaster(input_size=4, hidden_size=128, num_layers=1, output_size=4)\n",
    "\n",
    "# Training.\n",
    "train_losses, val_losses = train(lstm_model, train_dataloader, val_dataloader, n_epochs=25, lr=1e-3, verbose=True)"
   ],
   "metadata": {
    "collapsed": false,
    "ExecuteTime": {
     "end_time": "2024-06-14T00:39:27.201969600Z",
     "start_time": "2024-06-14T00:39:12.314108900Z"
    }
   },
   "id": "f6741af42f95c1c5"
  },
  {
   "cell_type": "code",
   "execution_count": 108,
   "outputs": [
    {
     "data": {
      "text/plain": "(array([0.288, 0.307, 0.196, 0.209], dtype=float32),\n array([0.272, 0.331, 0.193, 0.204], dtype=float32))"
     },
     "execution_count": 108,
     "metadata": {},
     "output_type": "execute_result"
    }
   ],
   "source": [
    "example_idx = 75\n",
    "lstm_model(torch.tensor([train_dataset[example_idx][0]]))[0].detach().numpy().round(3), train_dataset[example_idx][1]"
   ],
   "metadata": {
    "collapsed": false,
    "ExecuteTime": {
     "end_time": "2024-06-14T00:40:01.884339400Z",
     "start_time": "2024-06-14T00:40:01.874002700Z"
    }
   },
   "id": "15dca7680e555129"
  },
  {
   "cell_type": "code",
   "execution_count": 242,
   "outputs": [
    {
     "data": {
      "text/plain": "<Figure size 400x300 with 1 Axes>",
      "image/png": "[encoded data removed]"
     },
     "metadata": {},
     "output_type": "display_data"
    }
   ],
   "source": [
    "# Let's have a go at plotting that...\n",
    "example_idx = 0\n",
    "\n",
    "# Data.\n",
    "xs, ys_true = train_dataset[example_idx]\n",
    "ys_pred = lstm_model(torch.tensor([xs])).detach().numpy()\n",
    "all_probs = np.concatenate((xs, ys_pred, ys_true.reshape(-1, ys_true.shape[0])), axis=0)\n",
    "example_data = pd.DataFrame({\n",
    "    'Qubit 1' : all_probs[:, 0], 'Qubit 2' : all_probs[:, 1], 'Qubit 3' : all_probs[:, 2], 'Qubit 4' : all_probs[:, 3],\n",
    "    'Step' : np.concatenate((np.arange(1, xs.shape[0] + 1), np.arange(xs.shape[0] + 1, xs.shape[0] + ys_pred.shape[0] + 1), np.arange(xs.shape[0] + 1, xs.shape[0] + ys_pred.shape[0] + 1)), axis=None)\n",
    "})\n",
    "\n",
    "# Plot.\n",
    "fig, ax = plt.subplots(1, 1, figsize=(4, 3))\n",
    "palette = sns.color_palette('Dark2', n_colors=xs.shape[1])\n",
    "width = 1\n",
    "gap = 2\n",
    "\n",
    "# Plotting xs.\n",
    "bottoms_xs = np.zeros(xs.shape[0])\n",
    "for qubit in np.arange(xs.shape[1]):\n",
    "    ax.bar(np.arange(xs.shape[0]), all_probs[:-2, qubit], width=width, bottom=bottoms_xs, color=palette[qubit])\n",
    "    bottoms_xs += all_probs[:-2, qubit]\n",
    "    \n",
    "# Side-by-side plotting ys_true and ys_pred.\n",
    "bottoms_ys_pred = np.zeros(2)\n",
    "bottoms_ys_true = np.zeros(2)\n",
    "for qubit in np.arange(ys_pred.shape[1]):\n",
    "    ax.bar([xs.shape[0] + gap - .5 * width], all_probs[-2,qubit], width=width, bottom=bottoms_ys_pred, color=palette[qubit])\n",
    "    ax.bar([xs.shape[0] + gap + .5 * width], all_probs[-1,qubit], width=width, bottom=bottoms_ys_true, color=palette[qubit])\n",
    "    bottoms_ys_pred += all_probs[-2,qubit]\n",
    "    bottoms_ys_true += all_probs[-1,qubit]\n",
    "\n",
    "# Beautification.\n",
    "ax.set_title('Forecasting Outcome Distribution (LSTM)')\n",
    "ax.set_ylabel('Measurement Probability')\n",
    "ax.set_xlabel('Measurement Step')\n",
    "plt.xticks([0, 1, 2, 3, 4, 5, 6, 7, 8 + gap], [1, 2, 3, 4, 5, 6, 7, 8, 'Pred / True'])\n",
    "ax.legend(title='Qubit', labels=[1, 2, 3, 4], loc='center left', bbox_to_anchor=(1, 0.5))\n",
    "\n",
    "plt.savefig('./figures/lstm/martina-forecasting-stacked-bar.pdf', bbox_inches='tight')"
   ],
   "metadata": {
    "collapsed": false,
    "ExecuteTime": {
     "end_time": "2024-06-14T01:52:29.447626800Z",
     "start_time": "2024-06-14T01:52:28.826840600Z"
    }
   },
   "id": "2099985ff468d48b"
  }
 ],
 "metadata": {
  "kernelspec": {
   "display_name": "Python 3",
   "language": "python",
   "name": "python3"
  },
  "language_info": {
   "codemirror_mode": {
    "name": "ipython",
    "version": 2
   },
   "file_extension": ".py",
   "mimetype": "text/x-python",
   "name": "python",
   "nbconvert_exporter": "python",
   "pygments_lexer": "ipython2",
   "version": "2.7.6"
  }
 },
 "nbformat": 4,
 "nbformat_minor": 5
}
