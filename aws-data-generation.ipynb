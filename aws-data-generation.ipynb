{
 "cells": [
  {
   "cell_type": "code",
   "execution_count": 67,
   "outputs": [],
   "source": [
    "# Imports, as always...\n",
    "from os import makedirs, path\n",
    "from tqdm.notebook import tqdm\n",
    "import numpy as np\n",
    "import pandas as pd\n",
    "from qiskit_algorithms.utils import algorithm_globals\n",
    "from typing import Union\n",
    "import warnings\n",
    "from datetime import date\n",
    "\n",
    "# Circuitry.\n",
    "from qiskit import qpy\n",
    "from qiskit.circuit import QuantumCircuit, QuantumRegister, ClassicalRegister, ParameterVector\n",
    "from qiskit.circuit.library import UnitaryGate\n",
    "from qiskit.quantum_info import random_unitary, random_statevector\n",
    "from qiskit import transpile\n",
    "\n",
    "# AWS.\n",
    "import boto3\n",
    "from braket.circuits import Circuit \n",
    "from braket.devices import LocalSimulator\n",
    "from braket.tracking import tracker\n",
    "from qiskit_braket_provider import BraketLocalBackend\n",
    "from qiskit_ibm_runtime import SamplerV2 as Sampler\n",
    "\n",
    "# Plotting.\n",
    "from IPython.display import clear_output\n",
    "import matplotlib.pyplot as plt\n",
    "import seaborn as sns\n",
    "\n",
    "# Scripts.\n",
    "from scipts.circuit import generate_brickwork_circuit, generate_parameterised_input_layer\n",
    "\n",
    "# Styling.\n",
    "sns.set_context('paper')\n",
    "sns.set_theme(style='darkgrid', palette='Dark2')\n",
    "\n",
    "# RNG.\n",
    "def reset_seed(seed):\n",
    "  if seed is None:\n",
    "    return\n",
    "\n",
    "  np.random.seed(seed)\n",
    "  algorithm_globals.random_seed = seed\n",
    "\n",
    "# Data save path.\n",
    "data_save_path = './data/aws/local'\n",
    "makedirs(data_save_path, exist_ok=True)\n",
    "\n",
    "# Ignore warnings.\n",
    "warnings.filterwarnings('ignore')"
   ],
   "metadata": {
    "collapsed": false,
    "ExecuteTime": {
     "end_time": "2024-09-03T15:35:16.505813400Z",
     "start_time": "2024-09-03T15:35:16.500296900Z"
    }
   },
   "id": "609cd35bd034604c"
  },
  {
   "cell_type": "code",
   "execution_count": 3,
   "outputs": [
    {
     "name": "stdout",
     "output_type": "stream",
     "text": [
      "Counter({'11': 53, '00': 47})\n",
      "Task statistics: {}\n",
      "Estimated cost to run this example: 0.00000 USD\n"
     ]
    }
   ],
   "source": [
    "# Specify a local simulator.\n",
    "device = LocalSimulator() \n",
    "\n",
    "# Bell circuit to check that all is working.\n",
    "with tracker.Tracker() as money_machine:\n",
    "    bell = Circuit().h(0).cnot(0, 1) \n",
    "    result = device.run(bell, shots=100).result()\n",
    "    \n",
    "print(result.measurement_counts)\n",
    "print(f'Task statistics: {money_machine.quantum_tasks_statistics()}')\n",
    "print(f'Estimated cost to run this example: {money_machine.simulator_tasks_cost():.5f} USD')"
   ],
   "metadata": {
    "collapsed": false,
    "ExecuteTime": {
     "end_time": "2024-09-03T13:55:34.617188100Z",
     "start_time": "2024-09-03T13:55:34.588228400Z"
    }
   },
   "id": "295a4721fb23492e"
  },
  {
   "cell_type": "markdown",
   "source": [
    "## Buckets\n",
    "\n",
    "When running on a managed service or QPU, results of tasks are stored in an *S3 bucket* in your account. Buckets are denoted with the prefix `amazon-braket-` followed by whatever identifying characters you'd like.\n",
    "\n",
    "> A **bucket** is a container for *objects*, which are files and any associated metadata.\n",
    "\n",
    "To run one of these services, provide the location of the bucket as a positional arguement in the `.run()` call; e.g.\n",
    "\n",
    "```\n",
    "my_bucket = 'example-bucket'        # Bucket name\n",
    "my_prefix = 'simulation-output'     # Folder name (within the bucket)\n",
    "folder = (my_bucket, my_prefix)\n",
    "\n",
    "device = ...\n",
    "task = device.run(..., folder, ...)\n",
    "```\n",
    "\n",
    "I believe you would still have access to the result (i.e. via `task.result()`), but the full information is found in the *Quantum Tasks* section in the console. "
   ],
   "metadata": {
    "collapsed": false
   },
   "id": "33e8d65299baf78d"
  },
  {
   "cell_type": "code",
   "execution_count": null,
   "outputs": [],
   "source": [],
   "metadata": {
    "collapsed": false
   },
   "id": "43c4618acca1e740"
  },
  {
   "cell_type": "markdown",
   "source": [
    "## Generating Data via a *Local* Braket Simulator"
   ],
   "metadata": {
    "collapsed": false
   },
   "id": "49c862b262707d40"
  },
  {
   "cell_type": "code",
   "execution_count": 4,
   "outputs": [],
   "source": [
    "# Instantiate a local backend.\n",
    "local_backend = BraketLocalBackend()"
   ],
   "metadata": {
    "collapsed": false,
    "ExecuteTime": {
     "end_time": "2024-09-03T13:55:38.960222100Z",
     "start_time": "2024-09-03T13:55:38.947216Z"
    }
   },
   "id": "c22b4dcd68274370"
  },
  {
   "cell_type": "code",
   "execution_count": 5,
   "outputs": [
    {
     "data": {
      "text/plain": "     ┌───────────┐             ┌───────────┐             \nq_0: ┤0          ├─────────────┤0          ├─────────────\n     │  $U_{00}$ │┌───────────┐│  $U_{20}$ │┌───────────┐\nq_1: ┤1          ├┤0          ├┤1          ├┤0          ├\n     ├───────────┤│  $U_{11}$ │├───────────┤│  $U_{31}$ │\nq_2: ┤0          ├┤1          ├┤0          ├┤1          ├\n     │  $U_{01}$ │├───────────┤│  $U_{21}$ │├───────────┤\nq_3: ┤1          ├┤0          ├┤1          ├┤0          ├\n     └───────────┘│  $U_{12}$ │└───────────┘│  $U_{32}$ │\nq_4: ─────────────┤1          ├─────────────┤1          ├\n                  └───────────┘             └───────────┘",
      "text/html": "<pre style=\"word-wrap: normal;white-space: pre;background: #fff0;line-height: 1.1;font-family: &quot;Courier New&quot;,Courier,monospace\">     ┌───────────┐             ┌───────────┐             \nq_0: ┤0          ├─────────────┤0          ├─────────────\n     │  $U_{00}$ │┌───────────┐│  $U_{20}$ │┌───────────┐\nq_1: ┤1          ├┤0          ├┤1          ├┤0          ├\n     ├───────────┤│  $U_{11}$ │├───────────┤│  $U_{31}$ │\nq_2: ┤0          ├┤1          ├┤0          ├┤1          ├\n     │  $U_{01}$ │├───────────┤│  $U_{21}$ │├───────────┤\nq_3: ┤1          ├┤0          ├┤1          ├┤0          ├\n     └───────────┘│  $U_{12}$ │└───────────┘│  $U_{32}$ │\nq_4: ─────────────┤1          ├─────────────┤1          ├\n                  └───────────┘             └───────────┘</pre>"
     },
     "execution_count": 5,
     "metadata": {},
     "output_type": "execute_result"
    }
   ],
   "source": [
    "# Brickwork circuit.\n",
    "brickwork_circuit = generate_brickwork_circuit(n=5, d=4, seed=42)\n",
    "brickwork_circuit.draw()"
   ],
   "metadata": {
    "collapsed": false,
    "ExecuteTime": {
     "end_time": "2024-09-03T13:55:39.161041500Z",
     "start_time": "2024-09-03T13:55:39.092387300Z"
    }
   },
   "id": "a8770308799be1bb"
  },
  {
   "cell_type": "code",
   "execution_count": 52,
   "outputs": [
    {
     "data": {
      "text/plain": "        ┌─────────────┐ ░ ┌───────────┐             ┌───────────┐             »\n   q_0: ┤ Rx(π*in[0]) ├─░─┤0          ├─────────────┤0          ├─────────────»\n        ├─────────────┤ ░ │  $U_{00}$ │┌───────────┐│  $U_{20}$ │┌───────────┐»\n   q_1: ┤ Rx(π*in[1]) ├─░─┤1          ├┤0          ├┤1          ├┤0          ├»\n        ├─────────────┤ ░ ├───────────┤│  $U_{11}$ │├───────────┤│  $U_{31}$ │»\n   q_2: ┤ Rx(π*in[2]) ├─░─┤0          ├┤1          ├┤0          ├┤1          ├»\n        ├─────────────┤ ░ │  $U_{01}$ │├───────────┤│  $U_{21}$ │├───────────┤»\n   q_3: ┤ Rx(π*in[3]) ├─░─┤1          ├┤0          ├┤1          ├┤0          ├»\n        ├─────────────┤ ░ └───────────┘│  $U_{12}$ │└───────────┘│  $U_{32}$ │»\n   q_4: ┤ Rx(π*in[4]) ├─░──────────────┤1          ├─────────────┤1          ├»\n        └─────────────┘ ░              └───────────┘             └───────────┘»\nmeas: 5/══════════════════════════════════════════════════════════════════════»\n                                                                              »\n«         ░ ┌─┐            \n«   q_0: ─░─┤M├────────────\n«         ░ └╥┘┌─┐         \n«   q_1: ─░──╫─┤M├─────────\n«         ░  ║ └╥┘┌─┐      \n«   q_2: ─░──╫──╫─┤M├──────\n«         ░  ║  ║ └╥┘┌─┐   \n«   q_3: ─░──╫──╫──╫─┤M├───\n«         ░  ║  ║  ║ └╥┘┌─┐\n«   q_4: ─░──╫──╫──╫──╫─┤M├\n«         ░  ║  ║  ║  ║ └╥┘\n«meas: 5/════╩══╩══╩══╩══╩═\n«            0  1  2  3  4 ",
      "text/html": "<pre style=\"word-wrap: normal;white-space: pre;background: #fff0;line-height: 1.1;font-family: &quot;Courier New&quot;,Courier,monospace\">        ┌─────────────┐ ░ ┌───────────┐             ┌───────────┐             »\n   q_0: ┤ Rx(π*in[0]) ├─░─┤0          ├─────────────┤0          ├─────────────»\n        ├─────────────┤ ░ │  $U_{00}$ │┌───────────┐│  $U_{20}$ │┌───────────┐»\n   q_1: ┤ Rx(π*in[1]) ├─░─┤1          ├┤0          ├┤1          ├┤0          ├»\n        ├─────────────┤ ░ ├───────────┤│  $U_{11}$ │├───────────┤│  $U_{31}$ │»\n   q_2: ┤ Rx(π*in[2]) ├─░─┤0          ├┤1          ├┤0          ├┤1          ├»\n        ├─────────────┤ ░ │  $U_{01}$ │├───────────┤│  $U_{21}$ │├───────────┤»\n   q_3: ┤ Rx(π*in[3]) ├─░─┤1          ├┤0          ├┤1          ├┤0          ├»\n        ├─────────────┤ ░ └───────────┘│  $U_{12}$ │└───────────┘│  $U_{32}$ │»\n   q_4: ┤ Rx(π*in[4]) ├─░──────────────┤1          ├─────────────┤1          ├»\n        └─────────────┘ ░              └───────────┘             └───────────┘»\nmeas: 5/══════════════════════════════════════════════════════════════════════»\n                                                                              »\n«         ░ ┌─┐            \n«   q_0: ─░─┤M├────────────\n«         ░ └╥┘┌─┐         \n«   q_1: ─░──╫─┤M├─────────\n«         ░  ║ └╥┘┌─┐      \n«   q_2: ─░──╫──╫─┤M├──────\n«         ░  ║  ║ └╥┘┌─┐   \n«   q_3: ─░──╫──╫──╫─┤M├───\n«         ░  ║  ║  ║ └╥┘┌─┐\n«   q_4: ─░──╫──╫──╫──╫─┤M├\n«         ░  ║  ║  ║  ║ └╥┘\n«meas: 5/════╩══╩══╩══╩══╩═\n«            0  1  2  3  4 </pre>"
     },
     "execution_count": 52,
     "metadata": {},
     "output_type": "execute_result"
    }
   ],
   "source": [
    "# Full experiment circuit (depth-varied).\n",
    "def build_experiment_circuit(brickwork_circuit : QuantumCircuit, parameterised_input : bool = False):\n",
    "    # Circuit to build up.\n",
    "    n = brickwork_circuit.num_qubits\n",
    "    experiment_circuit = QuantumCircuit(n)\n",
    "    \n",
    "    # Add input preparation layer if necessary.\n",
    "    if parameterised_input:\n",
    "        experiment_circuit = experiment_circuit.compose(generate_parameterised_input_layer(n))\n",
    "        experiment_circuit.barrier()\n",
    "    \n",
    "    # Add the meat.    \n",
    "    experiment_circuit = experiment_circuit.compose(brickwork_circuit)\n",
    "    \n",
    "    # Measure.\n",
    "    experiment_circuit.measure_all()\n",
    "    \n",
    "    return experiment_circuit\n",
    "\n",
    "experiment_circuit = build_experiment_circuit(brickwork_circuit, parameterised_input=True   )\n",
    "experiment_circuit.draw()"
   ],
   "metadata": {
    "collapsed": false,
    "ExecuteTime": {
     "end_time": "2024-09-03T14:22:07.142430Z",
     "start_time": "2024-09-03T14:22:07.113625300Z"
    }
   },
   "id": "7562474b78ca3473"
  },
  {
   "cell_type": "code",
   "execution_count": 58,
   "outputs": [
    {
     "name": "stdout",
     "output_type": "stream",
     "text": [
      "{'00011': 6, '11111': 10, '00111': 15, '11001': 2, '10010': 4, '10000': 4, '00110': 5, '00001': 6, '11101': 8, '10111': 2, '11000': 6, '01000': 1, '00101': 4, '01011': 2, '10100': 2, '11110': 4, '01001': 4, '10011': 6, '11011': 1, '00000': 2, '01110': 1, '11010': 1, '00100': 1, '00010': 1, '10110': 1, '01101': 1}\n"
     ]
    }
   ],
   "source": [
    "# Set up.\n",
    "sampler = Sampler(mode=local_backend)\n",
    "x_in = [0, 1, 0, 1, 1]\n",
    "\n",
    "# Bind parameters.\n",
    "bounded_circuit = experiment_circuit.assign_parameters({\n",
    "    f'in[{i}]' : x_in[i] for i in range(experiment_circuit.num_parameters)\n",
    "})\n",
    "\n",
    "# Run and show.\n",
    "job = local_backend.run(bounded_circuit, shots=100)\n",
    "print(job.result().get_counts())"
   ],
   "metadata": {
    "collapsed": false,
    "ExecuteTime": {
     "end_time": "2024-09-03T14:27:11.404389100Z",
     "start_time": "2024-09-03T14:27:11.396757600Z"
    }
   },
   "id": "c54cf4d08e29a83c"
  },
  {
   "cell_type": "code",
   "execution_count": 90,
   "outputs": [],
   "source": [
    "def aws_routine(circuit : QuantumCircuit, backend, n_runs: int, parameter_sets : Union[np.array, None], n_shots: int = 1000, write_to_file: bool = False, file_name : str = 'data', seed : Union[int, None] = None, show_progress_bar : bool = True) -> pd.DataFrame:\n",
    "    # Checking validity of the parameter sets.\n",
    "    if parameter_sets is not None:\n",
    "        assert parameter_sets.shape[1] == circuit.num_parameters\n",
    "    \n",
    "    # RNG.\n",
    "    reset_seed(seed)\n",
    "\n",
    "    # Chained circuit.\n",
    "    experiment_circuit = build_experiment_circuit(brickwork_circuit, parameterised_input=True)\n",
    "\n",
    "    # Infer circuit configuration.\n",
    "    n, d = brickwork_circuit.num_qubits, brickwork_circuit.depth()\n",
    "  \n",
    "    # Dataframe to hold results.\n",
    "    results_df = pd.DataFrame(\n",
    "        columns=['n', 'd', 'run', 'x_in', 'n_shots', 'device'] + [format(i, f'0{n}b') for i in range(2 ** n)])\n",
    "\n",
    "    if write_to_file:\n",
    "        # Create a subdirectory for the backend if none exists.\n",
    "        makedirs(path.join(data_save_path, backend.backend_name), exist_ok=True)\n",
    "\n",
    "        # File name.\n",
    "        file_path = path.join(\n",
    "            data_save_path, file_name.split('.')[0] + '.csv'\n",
    "        )\n",
    "\n",
    "        # Empty file.\n",
    "        results_df.to_csv(file_path, index=False, header=True)\n",
    "        \n",
    "    for run in (tqdm(range(1, n_runs + 1), desc='Runs', leave=False) if show_progress_bar else range(1, n_runs + 1)):\n",
    "        for x_in in (tqdm(parameter_sets, desc='Parameter Sets', leave=False) if show_progress_bar else parameter_sets):\n",
    "            # Bind parameters.\n",
    "            bounded_circuit = experiment_circuit.assign_parameters({\n",
    "                f'in[{i}]' : x_in[i] for i in range(experiment_circuit.num_parameters)\n",
    "            })\n",
    "            \n",
    "            # Run (via backend).\n",
    "            job = local_backend.run(bounded_circuit, shots=n_shots)\n",
    "            \n",
    "            # Convert into an outcome distribution.\n",
    "            outcomes = {\n",
    "              key: value / n_shots\n",
    "              for key, value in job.result().get_counts().items()\n",
    "            }\n",
    "\n",
    "            # Compact into a DataFrame object.\n",
    "            run_result_df = pd.DataFrame(\n",
    "                columns=['n', 'd', 'run', 'n_shots', 'device'] + [format(i, f'0{n}b') for i in range(2 ** n)]\n",
    "            )\n",
    "            \n",
    "            # Translate the entries of the outcome distribution into the DataFrame.\n",
    "            # Any outcome states not measured will be left as NaN.\n",
    "            for state, prob in outcomes.items():\n",
    "                run_result_df[state] = [prob]\n",
    "\n",
    "            # \"Meta\" data.\n",
    "            run_result_df['n'] = [n]\n",
    "            run_result_df['d'] = [d]\n",
    "            run_result_df['run'] = [run]\n",
    "            run_result_df['x_in'] = [''.join(x_in.astype(str))]\n",
    "            run_result_df['n_shots'] = [n_shots]\n",
    "            run_result_df['device'] = [backend.backend_name]\n",
    "            \n",
    "            # Replace NaN with 0.\n",
    "            run_result_df.fillna(0., inplace=True)\n",
    "\n",
    "            # Add to the overall results.\n",
    "            results_df = pd.concat([results_df, run_result_df], ignore_index=True)\n",
    "\n",
    "            # Write to file.\n",
    "            if write_to_file:\n",
    "                run_result_df.to_csv(file_path, mode='a', index=False, header=False)\n",
    "\n",
    "    return results_df"
   ],
   "metadata": {
    "collapsed": false,
    "ExecuteTime": {
     "end_time": "2024-09-03T15:40:14.708094600Z",
     "start_time": "2024-09-03T15:40:14.705088100Z"
    }
   },
   "id": "d3b6f69fc3efc792"
  },
  {
   "cell_type": "code",
   "execution_count": 94,
   "outputs": [],
   "source": [
    "test_df = aws_routine(\n",
    "    circuit=experiment_circuit,\n",
    "    backend=local_backend,\n",
    "    n_runs=10,\n",
    "    parameter_sets=np.array([[0, 1, 1, 1, 0], [1, 1, 1, 0, 0], [1, 0, 1, 1, 0]]),\n",
    "    n_shots=100,\n",
    "    write_to_file=True,\n",
    "    file_name='test',\n",
    "    seed=42,\n",
    "    show_progress_bar=False\n",
    ")"
   ],
   "metadata": {
    "collapsed": false,
    "ExecuteTime": {
     "end_time": "2024-09-03T16:28:39.120301500Z",
     "start_time": "2024-09-03T16:28:36.244043800Z"
    }
   },
   "id": "84757f9247fb3e7a"
  },
  {
   "cell_type": "code",
   "execution_count": 95,
   "outputs": [
    {
     "data": {
      "text/plain": "    n  d run   x_in n_shots   device  00000  00001  00010  00011  ...  10110  \\\n0   5  4   1  01110     100  default   0.01   0.06   0.07   0.07  ...   0.00   \n1   5  4   1  11100     100  default   0.09   0.01   0.03   0.02  ...   0.05   \n2   5  4   1  10110     100  default   0.00   0.12   0.01   0.04  ...   0.00   \n3   5  4   2  01110     100  default   0.02   0.04   0.04   0.10  ...   0.03   \n4   5  4   2  11100     100  default   0.16   0.05   0.05   0.02  ...   0.01   \n5   5  4   2  10110     100  default   0.00   0.17   0.00   0.04  ...   0.00   \n6   5  4   3  01110     100  default   0.00   0.07   0.05   0.04  ...   0.01   \n7   5  4   3  11100     100  default   0.05   0.04   0.06   0.04  ...   0.02   \n8   5  4   3  10110     100  default   0.00   0.19   0.00   0.03  ...   0.00   \n9   5  4   4  01110     100  default   0.02   0.04   0.03   0.05  ...   0.02   \n10  5  4   4  11100     100  default   0.10   0.05   0.05   0.01  ...   0.01   \n11  5  4   4  10110     100  default   0.00   0.07   0.00   0.09  ...   0.00   \n12  5  4   5  01110     100  default   0.02   0.03   0.02   0.04  ...   0.02   \n13  5  4   5  11100     100  default   0.09   0.03   0.02   0.03  ...   0.02   \n14  5  4   5  10110     100  default   0.00   0.18   0.00   0.07  ...   0.00   \n15  5  4   6  01110     100  default   0.02   0.04   0.03   0.07  ...   0.02   \n16  5  4   6  11100     100  default   0.10   0.02   0.05   0.03  ...   0.04   \n17  5  4   6  10110     100  default   0.00   0.18   0.01   0.01  ...   0.00   \n18  5  4   7  01110     100  default   0.01   0.03   0.05   0.10  ...   0.00   \n19  5  4   7  11100     100  default   0.13   0.03   0.05   0.02  ...   0.02   \n20  5  4   7  10110     100  default   0.00   0.15   0.01   0.04  ...   0.00   \n21  5  4   8  01110     100  default   0.01   0.05   0.05   0.05  ...   0.01   \n22  5  4   8  11100     100  default   0.14   0.03   0.02   0.03  ...   0.05   \n23  5  4   8  10110     100  default   0.00   0.23   0.00   0.03  ...   0.00   \n24  5  4   9  01110     100  default   0.00   0.04   0.06   0.04  ...   0.02   \n25  5  4   9  11100     100  default   0.12   0.04   0.04   0.03  ...   0.04   \n26  5  4   9  10110     100  default   0.01   0.22   0.01   0.01  ...   0.00   \n27  5  4  10  01110     100  default   0.04   0.04   0.04   0.03  ...   0.00   \n28  5  4  10  11100     100  default   0.10   0.00   0.04   0.00  ...   0.04   \n29  5  4  10  10110     100  default   0.01   0.16   0.01   0.05  ...   0.00   \n\n    10111  11000  11001  11010  11011  11100  11101  11110  11111  \n0    0.05   0.01   0.01   0.03   0.08   0.02   0.01   0.02   0.01  \n1    0.01   0.05   0.02   0.00   0.01   0.02   0.03   0.00   0.00  \n2    0.00   0.04   0.11   0.00   0.03   0.02   0.02   0.04   0.01  \n3    0.04   0.01   0.00   0.01   0.07   0.03   0.02   0.03   0.01  \n4    0.02   0.04   0.04   0.01   0.00   0.01   0.01   0.00   0.00  \n5    0.00   0.05   0.09   0.01   0.04   0.03   0.04   0.00   0.04  \n6    0.02   0.00   0.03   0.04   0.06   0.08   0.02   0.05   0.01  \n7    0.01   0.01   0.05   0.00   0.01   0.00   0.01   0.01   0.00  \n8    0.00   0.07   0.09   0.00   0.02   0.05   0.01   0.01   0.02  \n9    0.02   0.02   0.01   0.02   0.10   0.11   0.02   0.03   0.01  \n10   0.00   0.03   0.04   0.00   0.02   0.00   0.01   0.01   0.01  \n11   0.00   0.05   0.09   0.00   0.03   0.01   0.04   0.02   0.02  \n12   0.02   0.00   0.02   0.02   0.06   0.07   0.06   0.08   0.03  \n13   0.00   0.03   0.03   0.01   0.00   0.01   0.00   0.01   0.01  \n14   0.00   0.08   0.07   0.01   0.03   0.01   0.02   0.00   0.02  \n15   0.03   0.00   0.01   0.02   0.06   0.10   0.03   0.04   0.02  \n16   0.02   0.04   0.03   0.02   0.04   0.01   0.01   0.01   0.01  \n17   0.00   0.10   0.05   0.00   0.03   0.00   0.02   0.01   0.03  \n18   0.04   0.00   0.02   0.03   0.07   0.05   0.01   0.02   0.02  \n19   0.02   0.06   0.05   0.01   0.00   0.03   0.02   0.02   0.02  \n20   0.00   0.10   0.12   0.00   0.03   0.00   0.02   0.01   0.02  \n21   0.02   0.00   0.02   0.03   0.16   0.04   0.05   0.06   0.01  \n22   0.01   0.09   0.04   0.00   0.00   0.01   0.01   0.05   0.01  \n23   0.00   0.06   0.09   0.00   0.01   0.00   0.01   0.02   0.01  \n24   0.07   0.01   0.02   0.02   0.10   0.05   0.02   0.08   0.03  \n25   0.03   0.08   0.06   0.02   0.01   0.00   0.04   0.00   0.01  \n26   0.00   0.07   0.05   0.00   0.05   0.00   0.04   0.03   0.00  \n27   0.10   0.02   0.01   0.03   0.06   0.09   0.02   0.07   0.02  \n28   0.01   0.04   0.04   0.00   0.02   0.01   0.01   0.00   0.00  \n29   0.00   0.04   0.09   0.01   0.04   0.02   0.02   0.03   0.02  \n\n[30 rows x 38 columns]",
      "text/html": "<div>\n<style scoped>\n    .dataframe tbody tr th:only-of-type {\n        vertical-align: middle;\n    }\n\n    .dataframe tbody tr th {\n        vertical-align: top;\n    }\n\n    .dataframe thead th {\n        text-align: right;\n    }\n</style>\n<table border=\"1\" class=\"dataframe\">\n  <thead>\n    <tr style=\"text-align: right;\">\n      <th></th>\n      <th>n</th>\n      <th>d</th>\n      <th>run</th>\n      <th>x_in</th>\n      <th>n_shots</th>\n      <th>device</th>\n      <th>00000</th>\n      <th>00001</th>\n      <th>00010</th>\n      <th>00011</th>\n      <th>...</th>\n      <th>10110</th>\n      <th>10111</th>\n      <th>11000</th>\n      <th>11001</th>\n      <th>11010</th>\n      <th>11011</th>\n      <th>11100</th>\n      <th>11101</th>\n      <th>11110</th>\n      <th>11111</th>\n    </tr>\n  </thead>\n  <tbody>\n    <tr>\n      <th>0</th>\n      <td>5</td>\n      <td>4</td>\n      <td>1</td>\n      <td>01110</td>\n      <td>100</td>\n      <td>default</td>\n      <td>0.01</td>\n      <td>0.06</td>\n      <td>0.07</td>\n      <td>0.07</td>\n      <td>...</td>\n      <td>0.00</td>\n      <td>0.05</td>\n      <td>0.01</td>\n      <td>0.01</td>\n      <td>0.03</td>\n      <td>0.08</td>\n      <td>0.02</td>\n      <td>0.01</td>\n      <td>0.02</td>\n      <td>0.01</td>\n    </tr>\n    <tr>\n      <th>1</th>\n      <td>5</td>\n      <td>4</td>\n      <td>1</td>\n      <td>11100</td>\n      <td>100</td>\n      <td>default</td>\n      <td>0.09</td>\n      <td>0.01</td>\n      <td>0.03</td>\n      <td>0.02</td>\n      <td>...</td>\n      <td>0.05</td>\n      <td>0.01</td>\n      <td>0.05</td>\n      <td>0.02</td>\n      <td>0.00</td>\n      <td>0.01</td>\n      <td>0.02</td>\n      <td>0.03</td>\n      <td>0.00</td>\n      <td>0.00</td>\n    </tr>\n    <tr>\n      <th>2</th>\n      <td>5</td>\n      <td>4</td>\n      <td>1</td>\n      <td>10110</td>\n      <td>100</td>\n      <td>default</td>\n      <td>0.00</td>\n      <td>0.12</td>\n      <td>0.01</td>\n      <td>0.04</td>\n      <td>...</td>\n      <td>0.00</td>\n      <td>0.00</td>\n      <td>0.04</td>\n      <td>0.11</td>\n      <td>0.00</td>\n      <td>0.03</td>\n      <td>0.02</td>\n      <td>0.02</td>\n      <td>0.04</td>\n      <td>0.01</td>\n    </tr>\n    <tr>\n      <th>3</th>\n      <td>5</td>\n      <td>4</td>\n      <td>2</td>\n      <td>01110</td>\n      <td>100</td>\n      <td>default</td>\n      <td>0.02</td>\n      <td>0.04</td>\n      <td>0.04</td>\n      <td>0.10</td>\n      <td>...</td>\n      <td>0.03</td>\n      <td>0.04</td>\n      <td>0.01</td>\n      <td>0.00</td>\n      <td>0.01</td>\n      <td>0.07</td>\n      <td>0.03</td>\n      <td>0.02</td>\n      <td>0.03</td>\n      <td>0.01</td>\n    </tr>\n    <tr>\n      <th>4</th>\n      <td>5</td>\n      <td>4</td>\n      <td>2</td>\n      <td>11100</td>\n      <td>100</td>\n      <td>default</td>\n      <td>0.16</td>\n      <td>0.05</td>\n      <td>0.05</td>\n      <td>0.02</td>\n      <td>...</td>\n      <td>0.01</td>\n      <td>0.02</td>\n      <td>0.04</td>\n      <td>0.04</td>\n      <td>0.01</td>\n      <td>0.00</td>\n      <td>0.01</td>\n      <td>0.01</td>\n      <td>0.00</td>\n      <td>0.00</td>\n    </tr>\n    <tr>\n      <th>5</th>\n      <td>5</td>\n      <td>4</td>\n      <td>2</td>\n      <td>10110</td>\n      <td>100</td>\n      <td>default</td>\n      <td>0.00</td>\n      <td>0.17</td>\n      <td>0.00</td>\n      <td>0.04</td>\n      <td>...</td>\n      <td>0.00</td>\n      <td>0.00</td>\n      <td>0.05</td>\n      <td>0.09</td>\n      <td>0.01</td>\n      <td>0.04</td>\n      <td>0.03</td>\n      <td>0.04</td>\n      <td>0.00</td>\n      <td>0.04</td>\n    </tr>\n    <tr>\n      <th>6</th>\n      <td>5</td>\n      <td>4</td>\n      <td>3</td>\n      <td>01110</td>\n      <td>100</td>\n      <td>default</td>\n      <td>0.00</td>\n      <td>0.07</td>\n      <td>0.05</td>\n      <td>0.04</td>\n      <td>...</td>\n      <td>0.01</td>\n      <td>0.02</td>\n      <td>0.00</td>\n      <td>0.03</td>\n      <td>0.04</td>\n      <td>0.06</td>\n      <td>0.08</td>\n      <td>0.02</td>\n      <td>0.05</td>\n      <td>0.01</td>\n    </tr>\n    <tr>\n      <th>7</th>\n      <td>5</td>\n      <td>4</td>\n      <td>3</td>\n      <td>11100</td>\n      <td>100</td>\n      <td>default</td>\n      <td>0.05</td>\n      <td>0.04</td>\n      <td>0.06</td>\n      <td>0.04</td>\n      <td>...</td>\n      <td>0.02</td>\n      <td>0.01</td>\n      <td>0.01</td>\n      <td>0.05</td>\n      <td>0.00</td>\n      <td>0.01</td>\n      <td>0.00</td>\n      <td>0.01</td>\n      <td>0.01</td>\n      <td>0.00</td>\n    </tr>\n    <tr>\n      <th>8</th>\n      <td>5</td>\n      <td>4</td>\n      <td>3</td>\n      <td>10110</td>\n      <td>100</td>\n      <td>default</td>\n      <td>0.00</td>\n      <td>0.19</td>\n      <td>0.00</td>\n      <td>0.03</td>\n      <td>...</td>\n      <td>0.00</td>\n      <td>0.00</td>\n      <td>0.07</td>\n      <td>0.09</td>\n      <td>0.00</td>\n      <td>0.02</td>\n      <td>0.05</td>\n      <td>0.01</td>\n      <td>0.01</td>\n      <td>0.02</td>\n    </tr>\n    <tr>\n      <th>9</th>\n      <td>5</td>\n      <td>4</td>\n      <td>4</td>\n      <td>01110</td>\n      <td>100</td>\n      <td>default</td>\n      <td>0.02</td>\n      <td>0.04</td>\n      <td>0.03</td>\n      <td>0.05</td>\n      <td>...</td>\n      <td>0.02</td>\n      <td>0.02</td>\n      <td>0.02</td>\n      <td>0.01</td>\n      <td>0.02</td>\n      <td>0.10</td>\n      <td>0.11</td>\n      <td>0.02</td>\n      <td>0.03</td>\n      <td>0.01</td>\n    </tr>\n    <tr>\n      <th>10</th>\n      <td>5</td>\n      <td>4</td>\n      <td>4</td>\n      <td>11100</td>\n      <td>100</td>\n      <td>default</td>\n      <td>0.10</td>\n      <td>0.05</td>\n      <td>0.05</td>\n      <td>0.01</td>\n      <td>...</td>\n      <td>0.01</td>\n      <td>0.00</td>\n      <td>0.03</td>\n      <td>0.04</td>\n      <td>0.00</td>\n      <td>0.02</td>\n      <td>0.00</td>\n      <td>0.01</td>\n      <td>0.01</td>\n      <td>0.01</td>\n    </tr>\n    <tr>\n      <th>11</th>\n      <td>5</td>\n      <td>4</td>\n      <td>4</td>\n      <td>10110</td>\n      <td>100</td>\n      <td>default</td>\n      <td>0.00</td>\n      <td>0.07</td>\n      <td>0.00</td>\n      <td>0.09</td>\n      <td>...</td>\n      <td>0.00</td>\n      <td>0.00</td>\n      <td>0.05</td>\n      <td>0.09</td>\n      <td>0.00</td>\n      <td>0.03</td>\n      <td>0.01</td>\n      <td>0.04</td>\n      <td>0.02</td>\n      <td>0.02</td>\n    </tr>\n    <tr>\n      <th>12</th>\n      <td>5</td>\n      <td>4</td>\n      <td>5</td>\n      <td>01110</td>\n      <td>100</td>\n      <td>default</td>\n      <td>0.02</td>\n      <td>0.03</td>\n      <td>0.02</td>\n      <td>0.04</td>\n      <td>...</td>\n      <td>0.02</td>\n      <td>0.02</td>\n      <td>0.00</td>\n      <td>0.02</td>\n      <td>0.02</td>\n      <td>0.06</td>\n      <td>0.07</td>\n      <td>0.06</td>\n      <td>0.08</td>\n      <td>0.03</td>\n    </tr>\n    <tr>\n      <th>13</th>\n      <td>5</td>\n      <td>4</td>\n      <td>5</td>\n      <td>11100</td>\n      <td>100</td>\n      <td>default</td>\n      <td>0.09</td>\n      <td>0.03</td>\n      <td>0.02</td>\n      <td>0.03</td>\n      <td>...</td>\n      <td>0.02</td>\n      <td>0.00</td>\n      <td>0.03</td>\n      <td>0.03</td>\n      <td>0.01</td>\n      <td>0.00</td>\n      <td>0.01</td>\n      <td>0.00</td>\n      <td>0.01</td>\n      <td>0.01</td>\n    </tr>\n    <tr>\n      <th>14</th>\n      <td>5</td>\n      <td>4</td>\n      <td>5</td>\n      <td>10110</td>\n      <td>100</td>\n      <td>default</td>\n      <td>0.00</td>\n      <td>0.18</td>\n      <td>0.00</td>\n      <td>0.07</td>\n      <td>...</td>\n      <td>0.00</td>\n      <td>0.00</td>\n      <td>0.08</td>\n      <td>0.07</td>\n      <td>0.01</td>\n      <td>0.03</td>\n      <td>0.01</td>\n      <td>0.02</td>\n      <td>0.00</td>\n      <td>0.02</td>\n    </tr>\n    <tr>\n      <th>15</th>\n      <td>5</td>\n      <td>4</td>\n      <td>6</td>\n      <td>01110</td>\n      <td>100</td>\n      <td>default</td>\n      <td>0.02</td>\n      <td>0.04</td>\n      <td>0.03</td>\n      <td>0.07</td>\n      <td>...</td>\n      <td>0.02</td>\n      <td>0.03</td>\n      <td>0.00</td>\n      <td>0.01</td>\n      <td>0.02</td>\n      <td>0.06</td>\n      <td>0.10</td>\n      <td>0.03</td>\n      <td>0.04</td>\n      <td>0.02</td>\n    </tr>\n    <tr>\n      <th>16</th>\n      <td>5</td>\n      <td>4</td>\n      <td>6</td>\n      <td>11100</td>\n      <td>100</td>\n      <td>default</td>\n      <td>0.10</td>\n      <td>0.02</td>\n      <td>0.05</td>\n      <td>0.03</td>\n      <td>...</td>\n      <td>0.04</td>\n      <td>0.02</td>\n      <td>0.04</td>\n      <td>0.03</td>\n      <td>0.02</td>\n      <td>0.04</td>\n      <td>0.01</td>\n      <td>0.01</td>\n      <td>0.01</td>\n      <td>0.01</td>\n    </tr>\n    <tr>\n      <th>17</th>\n      <td>5</td>\n      <td>4</td>\n      <td>6</td>\n      <td>10110</td>\n      <td>100</td>\n      <td>default</td>\n      <td>0.00</td>\n      <td>0.18</td>\n      <td>0.01</td>\n      <td>0.01</td>\n      <td>...</td>\n      <td>0.00</td>\n      <td>0.00</td>\n      <td>0.10</td>\n      <td>0.05</td>\n      <td>0.00</td>\n      <td>0.03</td>\n      <td>0.00</td>\n      <td>0.02</td>\n      <td>0.01</td>\n      <td>0.03</td>\n    </tr>\n    <tr>\n      <th>18</th>\n      <td>5</td>\n      <td>4</td>\n      <td>7</td>\n      <td>01110</td>\n      <td>100</td>\n      <td>default</td>\n      <td>0.01</td>\n      <td>0.03</td>\n      <td>0.05</td>\n      <td>0.10</td>\n      <td>...</td>\n      <td>0.00</td>\n      <td>0.04</td>\n      <td>0.00</td>\n      <td>0.02</td>\n      <td>0.03</td>\n      <td>0.07</td>\n      <td>0.05</td>\n      <td>0.01</td>\n      <td>0.02</td>\n      <td>0.02</td>\n    </tr>\n    <tr>\n      <th>19</th>\n      <td>5</td>\n      <td>4</td>\n      <td>7</td>\n      <td>11100</td>\n      <td>100</td>\n      <td>default</td>\n      <td>0.13</td>\n      <td>0.03</td>\n      <td>0.05</td>\n      <td>0.02</td>\n      <td>...</td>\n      <td>0.02</td>\n      <td>0.02</td>\n      <td>0.06</td>\n      <td>0.05</td>\n      <td>0.01</td>\n      <td>0.00</td>\n      <td>0.03</td>\n      <td>0.02</td>\n      <td>0.02</td>\n      <td>0.02</td>\n    </tr>\n    <tr>\n      <th>20</th>\n      <td>5</td>\n      <td>4</td>\n      <td>7</td>\n      <td>10110</td>\n      <td>100</td>\n      <td>default</td>\n      <td>0.00</td>\n      <td>0.15</td>\n      <td>0.01</td>\n      <td>0.04</td>\n      <td>...</td>\n      <td>0.00</td>\n      <td>0.00</td>\n      <td>0.10</td>\n      <td>0.12</td>\n      <td>0.00</td>\n      <td>0.03</td>\n      <td>0.00</td>\n      <td>0.02</td>\n      <td>0.01</td>\n      <td>0.02</td>\n    </tr>\n    <tr>\n      <th>21</th>\n      <td>5</td>\n      <td>4</td>\n      <td>8</td>\n      <td>01110</td>\n      <td>100</td>\n      <td>default</td>\n      <td>0.01</td>\n      <td>0.05</td>\n      <td>0.05</td>\n      <td>0.05</td>\n      <td>...</td>\n      <td>0.01</td>\n      <td>0.02</td>\n      <td>0.00</td>\n      <td>0.02</td>\n      <td>0.03</td>\n      <td>0.16</td>\n      <td>0.04</td>\n      <td>0.05</td>\n      <td>0.06</td>\n      <td>0.01</td>\n    </tr>\n    <tr>\n      <th>22</th>\n      <td>5</td>\n      <td>4</td>\n      <td>8</td>\n      <td>11100</td>\n      <td>100</td>\n      <td>default</td>\n      <td>0.14</td>\n      <td>0.03</td>\n      <td>0.02</td>\n      <td>0.03</td>\n      <td>...</td>\n      <td>0.05</td>\n      <td>0.01</td>\n      <td>0.09</td>\n      <td>0.04</td>\n      <td>0.00</td>\n      <td>0.00</td>\n      <td>0.01</td>\n      <td>0.01</td>\n      <td>0.05</td>\n      <td>0.01</td>\n    </tr>\n    <tr>\n      <th>23</th>\n      <td>5</td>\n      <td>4</td>\n      <td>8</td>\n      <td>10110</td>\n      <td>100</td>\n      <td>default</td>\n      <td>0.00</td>\n      <td>0.23</td>\n      <td>0.00</td>\n      <td>0.03</td>\n      <td>...</td>\n      <td>0.00</td>\n      <td>0.00</td>\n      <td>0.06</td>\n      <td>0.09</td>\n      <td>0.00</td>\n      <td>0.01</td>\n      <td>0.00</td>\n      <td>0.01</td>\n      <td>0.02</td>\n      <td>0.01</td>\n    </tr>\n    <tr>\n      <th>24</th>\n      <td>5</td>\n      <td>4</td>\n      <td>9</td>\n      <td>01110</td>\n      <td>100</td>\n      <td>default</td>\n      <td>0.00</td>\n      <td>0.04</td>\n      <td>0.06</td>\n      <td>0.04</td>\n      <td>...</td>\n      <td>0.02</td>\n      <td>0.07</td>\n      <td>0.01</td>\n      <td>0.02</td>\n      <td>0.02</td>\n      <td>0.10</td>\n      <td>0.05</td>\n      <td>0.02</td>\n      <td>0.08</td>\n      <td>0.03</td>\n    </tr>\n    <tr>\n      <th>25</th>\n      <td>5</td>\n      <td>4</td>\n      <td>9</td>\n      <td>11100</td>\n      <td>100</td>\n      <td>default</td>\n      <td>0.12</td>\n      <td>0.04</td>\n      <td>0.04</td>\n      <td>0.03</td>\n      <td>...</td>\n      <td>0.04</td>\n      <td>0.03</td>\n      <td>0.08</td>\n      <td>0.06</td>\n      <td>0.02</td>\n      <td>0.01</td>\n      <td>0.00</td>\n      <td>0.04</td>\n      <td>0.00</td>\n      <td>0.01</td>\n    </tr>\n    <tr>\n      <th>26</th>\n      <td>5</td>\n      <td>4</td>\n      <td>9</td>\n      <td>10110</td>\n      <td>100</td>\n      <td>default</td>\n      <td>0.01</td>\n      <td>0.22</td>\n      <td>0.01</td>\n      <td>0.01</td>\n      <td>...</td>\n      <td>0.00</td>\n      <td>0.00</td>\n      <td>0.07</td>\n      <td>0.05</td>\n      <td>0.00</td>\n      <td>0.05</td>\n      <td>0.00</td>\n      <td>0.04</td>\n      <td>0.03</td>\n      <td>0.00</td>\n    </tr>\n    <tr>\n      <th>27</th>\n      <td>5</td>\n      <td>4</td>\n      <td>10</td>\n      <td>01110</td>\n      <td>100</td>\n      <td>default</td>\n      <td>0.04</td>\n      <td>0.04</td>\n      <td>0.04</td>\n      <td>0.03</td>\n      <td>...</td>\n      <td>0.00</td>\n      <td>0.10</td>\n      <td>0.02</td>\n      <td>0.01</td>\n      <td>0.03</td>\n      <td>0.06</td>\n      <td>0.09</td>\n      <td>0.02</td>\n      <td>0.07</td>\n      <td>0.02</td>\n    </tr>\n    <tr>\n      <th>28</th>\n      <td>5</td>\n      <td>4</td>\n      <td>10</td>\n      <td>11100</td>\n      <td>100</td>\n      <td>default</td>\n      <td>0.10</td>\n      <td>0.00</td>\n      <td>0.04</td>\n      <td>0.00</td>\n      <td>...</td>\n      <td>0.04</td>\n      <td>0.01</td>\n      <td>0.04</td>\n      <td>0.04</td>\n      <td>0.00</td>\n      <td>0.02</td>\n      <td>0.01</td>\n      <td>0.01</td>\n      <td>0.00</td>\n      <td>0.00</td>\n    </tr>\n    <tr>\n      <th>29</th>\n      <td>5</td>\n      <td>4</td>\n      <td>10</td>\n      <td>10110</td>\n      <td>100</td>\n      <td>default</td>\n      <td>0.01</td>\n      <td>0.16</td>\n      <td>0.01</td>\n      <td>0.05</td>\n      <td>...</td>\n      <td>0.00</td>\n      <td>0.00</td>\n      <td>0.04</td>\n      <td>0.09</td>\n      <td>0.01</td>\n      <td>0.04</td>\n      <td>0.02</td>\n      <td>0.02</td>\n      <td>0.03</td>\n      <td>0.02</td>\n    </tr>\n  </tbody>\n</table>\n<p>30 rows × 38 columns</p>\n</div>"
     },
     "execution_count": 95,
     "metadata": {},
     "output_type": "execute_result"
    }
   ],
   "source": [
    "test_df"
   ],
   "metadata": {
    "collapsed": false,
    "ExecuteTime": {
     "end_time": "2024-09-03T16:28:45.393192700Z",
     "start_time": "2024-09-03T16:28:45.354358800Z"
    }
   },
   "id": "b83815e57917a106"
  }
 ],
 "metadata": {
  "kernelspec": {
   "display_name": "Python 3",
   "language": "python",
   "name": "python3"
  },
  "language_info": {
   "codemirror_mode": {
    "name": "ipython",
    "version": 2
   },
   "file_extension": ".py",
   "mimetype": "text/x-python",
   "name": "python",
   "nbconvert_exporter": "python",
   "pygments_lexer": "ipython2",
   "version": "2.7.6"
  }
 },
 "nbformat": 4,
 "nbformat_minor": 5
}
